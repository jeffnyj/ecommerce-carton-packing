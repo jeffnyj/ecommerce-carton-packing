{
 "cells": [
  {
   "cell_type": "code",
   "execution_count": 1,
   "metadata": {},
   "outputs": [],
   "source": [
    "import numpy as np\n",
    "import pandas as pd\n",
    "import matplotlib.pyplot as plt\n",
    "from sklearn.preprocessing import OneHotEncoder, OrdinalEncoder, StandardScaler\n",
    "from sklearn.compose import ColumnTransformer, make_column_selector\n",
    "from sklearn import set_config\n",
    "import seaborn as sns\n",
    "# from category_encoders import TargetEncoder"
   ]
  },
  {
   "cell_type": "markdown",
   "metadata": {},
   "source": [
    "## Preliminary Dataset Exploration"
   ]
  },
  {
   "cell_type": "markdown",
   "metadata": {},
   "source": [
    "The dataset consists of 3 months worth of packing and order data from an e-Commerce packing facility.\n",
    "\n",
    "Each row in the dataset represents a product being purchased\n",
    "\n",
    "The objective of this project is create an automatic carton box recommendation system. This means that the carton_type is the target variable."
   ]
  },
  {
   "cell_type": "code",
   "execution_count": 2,
   "metadata": {},
   "outputs": [
    {
     "data": {
      "text/html": [
       "<div>\n",
       "<style scoped>\n",
       "    .dataframe tbody tr th:only-of-type {\n",
       "        vertical-align: middle;\n",
       "    }\n",
       "\n",
       "    .dataframe tbody tr th {\n",
       "        vertical-align: top;\n",
       "    }\n",
       "\n",
       "    .dataframe thead th {\n",
       "        text-align: right;\n",
       "    }\n",
       "</style>\n",
       "<table border=\"1\" class=\"dataframe\">\n",
       "  <thead>\n",
       "    <tr style=\"text-align: right;\">\n",
       "      <th></th>\n",
       "      <th>carton_id</th>\n",
       "      <th>carton_type</th>\n",
       "      <th>orderkey</th>\n",
       "      <th>orderline</th>\n",
       "      <th>orderdate</th>\n",
       "      <th>country</th>\n",
       "      <th>sku</th>\n",
       "      <th>skucat</th>\n",
       "      <th>qtyshipped</th>\n",
       "      <th>storage_type</th>\n",
       "      <th>len_mm</th>\n",
       "      <th>wid_mm</th>\n",
       "      <th>hgt_mm</th>\n",
       "      <th>vol_dm3</th>\n",
       "      <th>isgift</th>\n",
       "    </tr>\n",
       "  </thead>\n",
       "  <tbody>\n",
       "    <tr>\n",
       "      <th>0</th>\n",
       "      <td>390081941033894136</td>\n",
       "      <td>C211</td>\n",
       "      <td>2291743</td>\n",
       "      <td>2</td>\n",
       "      <td>44627.588426</td>\n",
       "      <td>KR</td>\n",
       "      <td>5522774</td>\n",
       "      <td>18</td>\n",
       "      <td>1</td>\n",
       "      <td>MS</td>\n",
       "      <td>89.0</td>\n",
       "      <td>89.0</td>\n",
       "      <td>36.0</td>\n",
       "      <td>0.285156</td>\n",
       "      <td>1</td>\n",
       "    </tr>\n",
       "    <tr>\n",
       "      <th>1</th>\n",
       "      <td>390081941033895195</td>\n",
       "      <td>C211</td>\n",
       "      <td>2291745</td>\n",
       "      <td>2</td>\n",
       "      <td>44627.588576</td>\n",
       "      <td>KR</td>\n",
       "      <td>5533397</td>\n",
       "      <td>18</td>\n",
       "      <td>1</td>\n",
       "      <td>MS</td>\n",
       "      <td>89.0</td>\n",
       "      <td>89.0</td>\n",
       "      <td>36.0</td>\n",
       "      <td>0.285156</td>\n",
       "      <td>1</td>\n",
       "    </tr>\n",
       "    <tr>\n",
       "      <th>2</th>\n",
       "      <td>390081941033895775</td>\n",
       "      <td>C211</td>\n",
       "      <td>2291760</td>\n",
       "      <td>2</td>\n",
       "      <td>44627.589514</td>\n",
       "      <td>KR</td>\n",
       "      <td>5567934</td>\n",
       "      <td>18</td>\n",
       "      <td>1</td>\n",
       "      <td>MS</td>\n",
       "      <td>104.0</td>\n",
       "      <td>83.0</td>\n",
       "      <td>59.0</td>\n",
       "      <td>0.509288</td>\n",
       "      <td>1</td>\n",
       "    </tr>\n",
       "    <tr>\n",
       "      <th>3</th>\n",
       "      <td>390081941036292014</td>\n",
       "      <td>C211</td>\n",
       "      <td>2291768</td>\n",
       "      <td>2</td>\n",
       "      <td>44627.589664</td>\n",
       "      <td>KR</td>\n",
       "      <td>5562084</td>\n",
       "      <td>18</td>\n",
       "      <td>1</td>\n",
       "      <td>MS</td>\n",
       "      <td>145.0</td>\n",
       "      <td>91.0</td>\n",
       "      <td>42.0</td>\n",
       "      <td>0.554190</td>\n",
       "      <td>1</td>\n",
       "    </tr>\n",
       "    <tr>\n",
       "      <th>4</th>\n",
       "      <td>390081941036300641</td>\n",
       "      <td>C211</td>\n",
       "      <td>2291772</td>\n",
       "      <td>2</td>\n",
       "      <td>44627.589907</td>\n",
       "      <td>KR</td>\n",
       "      <td>5636421</td>\n",
       "      <td>18</td>\n",
       "      <td>1</td>\n",
       "      <td>MS</td>\n",
       "      <td>89.0</td>\n",
       "      <td>89.0</td>\n",
       "      <td>36.0</td>\n",
       "      <td>0.285156</td>\n",
       "      <td>1</td>\n",
       "    </tr>\n",
       "    <tr>\n",
       "      <th>...</th>\n",
       "      <td>...</td>\n",
       "      <td>...</td>\n",
       "      <td>...</td>\n",
       "      <td>...</td>\n",
       "      <td>...</td>\n",
       "      <td>...</td>\n",
       "      <td>...</td>\n",
       "      <td>...</td>\n",
       "      <td>...</td>\n",
       "      <td>...</td>\n",
       "      <td>...</td>\n",
       "      <td>...</td>\n",
       "      <td>...</td>\n",
       "      <td>...</td>\n",
       "      <td>...</td>\n",
       "    </tr>\n",
       "    <tr>\n",
       "      <th>62236</th>\n",
       "      <td>390081941037460412</td>\n",
       "      <td>C321</td>\n",
       "      <td>2565691</td>\n",
       "      <td>2</td>\n",
       "      <td>44712.508125</td>\n",
       "      <td>AU</td>\n",
       "      <td>5521027</td>\n",
       "      <td>18</td>\n",
       "      <td>1</td>\n",
       "      <td>MS</td>\n",
       "      <td>102.0</td>\n",
       "      <td>102.0</td>\n",
       "      <td>81.0</td>\n",
       "      <td>0.842724</td>\n",
       "      <td>0</td>\n",
       "    </tr>\n",
       "    <tr>\n",
       "      <th>62237</th>\n",
       "      <td>390081941036765006</td>\n",
       "      <td>C211</td>\n",
       "      <td>2565692</td>\n",
       "      <td>1</td>\n",
       "      <td>44712.508160</td>\n",
       "      <td>AU</td>\n",
       "      <td>5347329</td>\n",
       "      <td>18</td>\n",
       "      <td>1</td>\n",
       "      <td>MS</td>\n",
       "      <td>89.0</td>\n",
       "      <td>89.0</td>\n",
       "      <td>36.0</td>\n",
       "      <td>0.285156</td>\n",
       "      <td>0</td>\n",
       "    </tr>\n",
       "    <tr>\n",
       "      <th>62238</th>\n",
       "      <td>390081941036765006</td>\n",
       "      <td>C211</td>\n",
       "      <td>2565692</td>\n",
       "      <td>2</td>\n",
       "      <td>44712.508160</td>\n",
       "      <td>AU</td>\n",
       "      <td>5531287</td>\n",
       "      <td>18</td>\n",
       "      <td>1</td>\n",
       "      <td>MS</td>\n",
       "      <td>72.0</td>\n",
       "      <td>70.0</td>\n",
       "      <td>32.0</td>\n",
       "      <td>0.161280</td>\n",
       "      <td>0</td>\n",
       "    </tr>\n",
       "    <tr>\n",
       "      <th>62239</th>\n",
       "      <td>390081941037423615</td>\n",
       "      <td>C211</td>\n",
       "      <td>2565693</td>\n",
       "      <td>1</td>\n",
       "      <td>44712.508194</td>\n",
       "      <td>AU</td>\n",
       "      <td>5518871</td>\n",
       "      <td>18</td>\n",
       "      <td>1</td>\n",
       "      <td>MS</td>\n",
       "      <td>104.0</td>\n",
       "      <td>83.0</td>\n",
       "      <td>59.0</td>\n",
       "      <td>0.509288</td>\n",
       "      <td>0</td>\n",
       "    </tr>\n",
       "    <tr>\n",
       "      <th>62240</th>\n",
       "      <td>390081941037423615</td>\n",
       "      <td>C211</td>\n",
       "      <td>2565693</td>\n",
       "      <td>2</td>\n",
       "      <td>44712.508194</td>\n",
       "      <td>AU</td>\n",
       "      <td>5441209</td>\n",
       "      <td>18</td>\n",
       "      <td>1</td>\n",
       "      <td>MS</td>\n",
       "      <td>55.0</td>\n",
       "      <td>55.0</td>\n",
       "      <td>54.0</td>\n",
       "      <td>0.163350</td>\n",
       "      <td>0</td>\n",
       "    </tr>\n",
       "  </tbody>\n",
       "</table>\n",
       "<p>62241 rows × 15 columns</p>\n",
       "</div>"
      ],
      "text/plain": [
       "                carton_id carton_type  orderkey  orderline     orderdate  \\\n",
       "0      390081941033894136        C211   2291743          2  44627.588426   \n",
       "1      390081941033895195        C211   2291745          2  44627.588576   \n",
       "2      390081941033895775        C211   2291760          2  44627.589514   \n",
       "3      390081941036292014        C211   2291768          2  44627.589664   \n",
       "4      390081941036300641        C211   2291772          2  44627.589907   \n",
       "...                   ...         ...       ...        ...           ...   \n",
       "62236  390081941037460412        C321   2565691          2  44712.508125   \n",
       "62237  390081941036765006        C211   2565692          1  44712.508160   \n",
       "62238  390081941036765006        C211   2565692          2  44712.508160   \n",
       "62239  390081941037423615        C211   2565693          1  44712.508194   \n",
       "62240  390081941037423615        C211   2565693          2  44712.508194   \n",
       "\n",
       "      country      sku  skucat  qtyshipped storage_type  len_mm  wid_mm  \\\n",
       "0          KR  5522774      18           1           MS    89.0    89.0   \n",
       "1          KR  5533397      18           1           MS    89.0    89.0   \n",
       "2          KR  5567934      18           1           MS   104.0    83.0   \n",
       "3          KR  5562084      18           1           MS   145.0    91.0   \n",
       "4          KR  5636421      18           1           MS    89.0    89.0   \n",
       "...       ...      ...     ...         ...          ...     ...     ...   \n",
       "62236      AU  5521027      18           1           MS   102.0   102.0   \n",
       "62237      AU  5347329      18           1           MS    89.0    89.0   \n",
       "62238      AU  5531287      18           1           MS    72.0    70.0   \n",
       "62239      AU  5518871      18           1           MS   104.0    83.0   \n",
       "62240      AU  5441209      18           1           MS    55.0    55.0   \n",
       "\n",
       "       hgt_mm   vol_dm3  isgift  \n",
       "0        36.0  0.285156       1  \n",
       "1        36.0  0.285156       1  \n",
       "2        59.0  0.509288       1  \n",
       "3        42.0  0.554190       1  \n",
       "4        36.0  0.285156       1  \n",
       "...       ...       ...     ...  \n",
       "62236    81.0  0.842724       0  \n",
       "62237    36.0  0.285156       0  \n",
       "62238    32.0  0.161280       0  \n",
       "62239    59.0  0.509288       0  \n",
       "62240    54.0  0.163350       0  \n",
       "\n",
       "[62241 rows x 15 columns]"
      ]
     },
     "execution_count": 2,
     "metadata": {},
     "output_type": "execute_result"
    }
   ],
   "source": [
    "df = pd.read_excel('../data/outbound_data_finalv1.xlsx', sheet_name='data')\n",
    "df"
   ]
  },
  {
   "cell_type": "code",
   "execution_count": 3,
   "metadata": {},
   "outputs": [
    {
     "data": {
      "text/plain": [
       "32726"
      ]
     },
     "execution_count": 3,
     "metadata": {},
     "output_type": "execute_result"
    }
   ],
   "source": [
    "len(df['orderkey'].unique())"
   ]
  },
  {
   "cell_type": "markdown",
   "metadata": {},
   "source": [
    "There are 62241 rows of data in the dataset but only 32726 orders.\n",
    "\n",
    "Since the target variable is carton_type, but the carton_type is determined at the order level, this means that there needs to be some aggregation to consolidate the rows into the order level."
   ]
  },
  {
   "cell_type": "markdown",
   "metadata": {},
   "source": [
    "## Preprocessing Data"
   ]
  },
  {
   "cell_type": "markdown",
   "metadata": {},
   "source": [
    "#### Cleaning of data"
   ]
  },
  {
   "cell_type": "markdown",
   "metadata": {},
   "source": [
    "First, we drop the columns that are repeated identifier data. We will be using orderkey as the identifier in this instance"
   ]
  },
  {
   "cell_type": "code",
   "execution_count": 4,
   "metadata": {},
   "outputs": [
    {
     "data": {
      "text/html": [
       "<div>\n",
       "<style scoped>\n",
       "    .dataframe tbody tr th:only-of-type {\n",
       "        vertical-align: middle;\n",
       "    }\n",
       "\n",
       "    .dataframe tbody tr th {\n",
       "        vertical-align: top;\n",
       "    }\n",
       "\n",
       "    .dataframe thead th {\n",
       "        text-align: right;\n",
       "    }\n",
       "</style>\n",
       "<table border=\"1\" class=\"dataframe\">\n",
       "  <thead>\n",
       "    <tr style=\"text-align: right;\">\n",
       "      <th></th>\n",
       "      <th>carton_type</th>\n",
       "      <th>orderkey</th>\n",
       "      <th>country</th>\n",
       "      <th>skucat</th>\n",
       "      <th>qtyshipped</th>\n",
       "      <th>storage_type</th>\n",
       "      <th>len_mm</th>\n",
       "      <th>wid_mm</th>\n",
       "      <th>hgt_mm</th>\n",
       "      <th>vol_dm3</th>\n",
       "      <th>isgift</th>\n",
       "    </tr>\n",
       "  </thead>\n",
       "  <tbody>\n",
       "    <tr>\n",
       "      <th>0</th>\n",
       "      <td>C211</td>\n",
       "      <td>2291743</td>\n",
       "      <td>KR</td>\n",
       "      <td>18</td>\n",
       "      <td>1</td>\n",
       "      <td>MS</td>\n",
       "      <td>89.0</td>\n",
       "      <td>89.0</td>\n",
       "      <td>36.0</td>\n",
       "      <td>0.285156</td>\n",
       "      <td>1</td>\n",
       "    </tr>\n",
       "    <tr>\n",
       "      <th>1</th>\n",
       "      <td>C211</td>\n",
       "      <td>2291745</td>\n",
       "      <td>KR</td>\n",
       "      <td>18</td>\n",
       "      <td>1</td>\n",
       "      <td>MS</td>\n",
       "      <td>89.0</td>\n",
       "      <td>89.0</td>\n",
       "      <td>36.0</td>\n",
       "      <td>0.285156</td>\n",
       "      <td>1</td>\n",
       "    </tr>\n",
       "    <tr>\n",
       "      <th>2</th>\n",
       "      <td>C211</td>\n",
       "      <td>2291760</td>\n",
       "      <td>KR</td>\n",
       "      <td>18</td>\n",
       "      <td>1</td>\n",
       "      <td>MS</td>\n",
       "      <td>104.0</td>\n",
       "      <td>83.0</td>\n",
       "      <td>59.0</td>\n",
       "      <td>0.509288</td>\n",
       "      <td>1</td>\n",
       "    </tr>\n",
       "    <tr>\n",
       "      <th>3</th>\n",
       "      <td>C211</td>\n",
       "      <td>2291768</td>\n",
       "      <td>KR</td>\n",
       "      <td>18</td>\n",
       "      <td>1</td>\n",
       "      <td>MS</td>\n",
       "      <td>145.0</td>\n",
       "      <td>91.0</td>\n",
       "      <td>42.0</td>\n",
       "      <td>0.554190</td>\n",
       "      <td>1</td>\n",
       "    </tr>\n",
       "    <tr>\n",
       "      <th>4</th>\n",
       "      <td>C211</td>\n",
       "      <td>2291772</td>\n",
       "      <td>KR</td>\n",
       "      <td>18</td>\n",
       "      <td>1</td>\n",
       "      <td>MS</td>\n",
       "      <td>89.0</td>\n",
       "      <td>89.0</td>\n",
       "      <td>36.0</td>\n",
       "      <td>0.285156</td>\n",
       "      <td>1</td>\n",
       "    </tr>\n",
       "    <tr>\n",
       "      <th>...</th>\n",
       "      <td>...</td>\n",
       "      <td>...</td>\n",
       "      <td>...</td>\n",
       "      <td>...</td>\n",
       "      <td>...</td>\n",
       "      <td>...</td>\n",
       "      <td>...</td>\n",
       "      <td>...</td>\n",
       "      <td>...</td>\n",
       "      <td>...</td>\n",
       "      <td>...</td>\n",
       "    </tr>\n",
       "    <tr>\n",
       "      <th>62236</th>\n",
       "      <td>C321</td>\n",
       "      <td>2565691</td>\n",
       "      <td>AU</td>\n",
       "      <td>18</td>\n",
       "      <td>1</td>\n",
       "      <td>MS</td>\n",
       "      <td>102.0</td>\n",
       "      <td>102.0</td>\n",
       "      <td>81.0</td>\n",
       "      <td>0.842724</td>\n",
       "      <td>0</td>\n",
       "    </tr>\n",
       "    <tr>\n",
       "      <th>62237</th>\n",
       "      <td>C211</td>\n",
       "      <td>2565692</td>\n",
       "      <td>AU</td>\n",
       "      <td>18</td>\n",
       "      <td>1</td>\n",
       "      <td>MS</td>\n",
       "      <td>89.0</td>\n",
       "      <td>89.0</td>\n",
       "      <td>36.0</td>\n",
       "      <td>0.285156</td>\n",
       "      <td>0</td>\n",
       "    </tr>\n",
       "    <tr>\n",
       "      <th>62238</th>\n",
       "      <td>C211</td>\n",
       "      <td>2565692</td>\n",
       "      <td>AU</td>\n",
       "      <td>18</td>\n",
       "      <td>1</td>\n",
       "      <td>MS</td>\n",
       "      <td>72.0</td>\n",
       "      <td>70.0</td>\n",
       "      <td>32.0</td>\n",
       "      <td>0.161280</td>\n",
       "      <td>0</td>\n",
       "    </tr>\n",
       "    <tr>\n",
       "      <th>62239</th>\n",
       "      <td>C211</td>\n",
       "      <td>2565693</td>\n",
       "      <td>AU</td>\n",
       "      <td>18</td>\n",
       "      <td>1</td>\n",
       "      <td>MS</td>\n",
       "      <td>104.0</td>\n",
       "      <td>83.0</td>\n",
       "      <td>59.0</td>\n",
       "      <td>0.509288</td>\n",
       "      <td>0</td>\n",
       "    </tr>\n",
       "    <tr>\n",
       "      <th>62240</th>\n",
       "      <td>C211</td>\n",
       "      <td>2565693</td>\n",
       "      <td>AU</td>\n",
       "      <td>18</td>\n",
       "      <td>1</td>\n",
       "      <td>MS</td>\n",
       "      <td>55.0</td>\n",
       "      <td>55.0</td>\n",
       "      <td>54.0</td>\n",
       "      <td>0.163350</td>\n",
       "      <td>0</td>\n",
       "    </tr>\n",
       "  </tbody>\n",
       "</table>\n",
       "<p>62241 rows × 11 columns</p>\n",
       "</div>"
      ],
      "text/plain": [
       "      carton_type  orderkey country  skucat  qtyshipped storage_type  len_mm  \\\n",
       "0            C211   2291743      KR      18           1           MS    89.0   \n",
       "1            C211   2291745      KR      18           1           MS    89.0   \n",
       "2            C211   2291760      KR      18           1           MS   104.0   \n",
       "3            C211   2291768      KR      18           1           MS   145.0   \n",
       "4            C211   2291772      KR      18           1           MS    89.0   \n",
       "...           ...       ...     ...     ...         ...          ...     ...   \n",
       "62236        C321   2565691      AU      18           1           MS   102.0   \n",
       "62237        C211   2565692      AU      18           1           MS    89.0   \n",
       "62238        C211   2565692      AU      18           1           MS    72.0   \n",
       "62239        C211   2565693      AU      18           1           MS   104.0   \n",
       "62240        C211   2565693      AU      18           1           MS    55.0   \n",
       "\n",
       "       wid_mm  hgt_mm   vol_dm3  isgift  \n",
       "0        89.0    36.0  0.285156       1  \n",
       "1        89.0    36.0  0.285156       1  \n",
       "2        83.0    59.0  0.509288       1  \n",
       "3        91.0    42.0  0.554190       1  \n",
       "4        89.0    36.0  0.285156       1  \n",
       "...       ...     ...       ...     ...  \n",
       "62236   102.0    81.0  0.842724       0  \n",
       "62237    89.0    36.0  0.285156       0  \n",
       "62238    70.0    32.0  0.161280       0  \n",
       "62239    83.0    59.0  0.509288       0  \n",
       "62240    55.0    54.0  0.163350       0  \n",
       "\n",
       "[62241 rows x 11 columns]"
      ]
     },
     "execution_count": 4,
     "metadata": {},
     "output_type": "execute_result"
    }
   ],
   "source": [
    "df_noid=df.drop(columns=['sku','orderline','orderdate','carton_id'])\n",
    "df_noid['vol_dm3']=df_noid['vol_dm3']*df_noid['qtyshipped']\n",
    "df_noid"
   ]
  },
  {
   "cell_type": "markdown",
   "metadata": {},
   "source": [
    "Details regarding the dimensions of the carton types will be used to conduct a sanity check which will be explained shortly."
   ]
  },
  {
   "cell_type": "code",
   "execution_count": 5,
   "metadata": {},
   "outputs": [
    {
     "data": {
      "text/html": [
       "<div>\n",
       "<style scoped>\n",
       "    .dataframe tbody tr th:only-of-type {\n",
       "        vertical-align: middle;\n",
       "    }\n",
       "\n",
       "    .dataframe tbody tr th {\n",
       "        vertical-align: top;\n",
       "    }\n",
       "\n",
       "    .dataframe thead th {\n",
       "        text-align: right;\n",
       "    }\n",
       "</style>\n",
       "<table border=\"1\" class=\"dataframe\">\n",
       "  <thead>\n",
       "    <tr style=\"text-align: right;\">\n",
       "      <th></th>\n",
       "      <th>carton_type</th>\n",
       "      <th>carton_vol</th>\n",
       "      <th>giftcube</th>\n",
       "      <th>len</th>\n",
       "      <th>giftlen</th>\n",
       "      <th>wid</th>\n",
       "      <th>giftwid</th>\n",
       "      <th>hgt</th>\n",
       "    </tr>\n",
       "  </thead>\n",
       "  <tbody>\n",
       "    <tr>\n",
       "      <th>0</th>\n",
       "      <td>C211</td>\n",
       "      <td>2.65</td>\n",
       "      <td>1.62</td>\n",
       "      <td>240</td>\n",
       "      <td>180</td>\n",
       "      <td>160</td>\n",
       "      <td>120</td>\n",
       "      <td>75</td>\n",
       "    </tr>\n",
       "    <tr>\n",
       "      <th>1</th>\n",
       "      <td>C321</td>\n",
       "      <td>5.25</td>\n",
       "      <td>4.95</td>\n",
       "      <td>250</td>\n",
       "      <td>220</td>\n",
       "      <td>180</td>\n",
       "      <td>180</td>\n",
       "      <td>125</td>\n",
       "    </tr>\n",
       "    <tr>\n",
       "      <th>2</th>\n",
       "      <td>C431</td>\n",
       "      <td>8.30</td>\n",
       "      <td>8.10</td>\n",
       "      <td>390</td>\n",
       "      <td>340</td>\n",
       "      <td>280</td>\n",
       "      <td>280</td>\n",
       "      <td>85</td>\n",
       "    </tr>\n",
       "    <tr>\n",
       "      <th>3</th>\n",
       "      <td>C432</td>\n",
       "      <td>20.50</td>\n",
       "      <td>18.36</td>\n",
       "      <td>390</td>\n",
       "      <td>340</td>\n",
       "      <td>300</td>\n",
       "      <td>300</td>\n",
       "      <td>180</td>\n",
       "    </tr>\n",
       "    <tr>\n",
       "      <th>4</th>\n",
       "      <td>C543</td>\n",
       "      <td>60.00</td>\n",
       "      <td>57.60</td>\n",
       "      <td>500</td>\n",
       "      <td>450</td>\n",
       "      <td>400</td>\n",
       "      <td>400</td>\n",
       "      <td>320</td>\n",
       "    </tr>\n",
       "  </tbody>\n",
       "</table>\n",
       "</div>"
      ],
      "text/plain": [
       "  carton_type  carton_vol  giftcube  len  giftlen  wid  giftwid  hgt\n",
       "0        C211        2.65      1.62  240      180  160      120   75\n",
       "1        C321        5.25      4.95  250      220  180      180  125\n",
       "2        C431        8.30      8.10  390      340  280      280   85\n",
       "3        C432       20.50     18.36  390      340  300      300  180\n",
       "4        C543       60.00     57.60  500      450  400      400  320"
      ]
     },
     "execution_count": 5,
     "metadata": {},
     "output_type": "execute_result"
    }
   ],
   "source": [
    "carton = pd.read_excel('../data/cartontable.xlsx')\n",
    "carton.rename(columns = {'cartonsize':'carton_type', 'maxcube':'carton_vol'},inplace = True)\n",
    "carton.head()"
   ]
  },
  {
   "cell_type": "markdown",
   "metadata": {},
   "source": [
    "This is a sanity check function to ensure that the volumes of the items for each does not exceed the volume of the cartons they are stored in. This is a simple check to eliminate any potential data entry errors. Moving forward, the data after the sanity check will be assumed to be optimal, meaning the cartons that the orders are stored in are the ideal size of cartons."
   ]
  },
  {
   "cell_type": "code",
   "execution_count": 6,
   "metadata": {},
   "outputs": [],
   "source": [
    "def sanity_check(sales,carton):\n",
    "    merged=sales.merge(carton,how='inner',on='carton_type')\n",
    "    merged.set_index('orderkey',inplace=True)\n",
    "    idx=merged.index[merged['sum_vol']<=merged['carton_vol']]\n",
    "    return sales.loc[idx]"
   ]
  },
  {
   "cell_type": "markdown",
   "metadata": {},
   "source": [
    "#### Data aggregation"
   ]
  },
  {
   "cell_type": "markdown",
   "metadata": {},
   "source": [
    "As mentioned earlier, the data will need to be aggregated into the order level. As such, functions such as max, sum and mode will be used to aggregate the data in the dataset at the order level.\n",
    "\n",
    "For most of the features to be aggregated, it was straightforward to find out which aggregation will best represent each orderkey. However, for the dimensions of the products, trial and error was used to determine which of the aggregation functions yielded better results when testing the machine learning model on the test data. It was found that the max aggregate function worked best for the dimensions. \n",
    "\n",
    "(To prevent this python notebook from being too long, only the max aggregate function will be used for the dimensions in this notebook. Note that other measures such as multiplying the the qtyshipped with the dimensions were also considered but not used in this project, but can be considered in future work.)"
   ]
  },
  {
   "cell_type": "code",
   "execution_count": 7,
   "metadata": {},
   "outputs": [
    {
     "data": {
      "text/html": [
       "<div>\n",
       "<style scoped>\n",
       "    .dataframe tbody tr th:only-of-type {\n",
       "        vertical-align: middle;\n",
       "    }\n",
       "\n",
       "    .dataframe tbody tr th {\n",
       "        vertical-align: top;\n",
       "    }\n",
       "\n",
       "    .dataframe thead th {\n",
       "        text-align: right;\n",
       "    }\n",
       "</style>\n",
       "<table border=\"1\" class=\"dataframe\">\n",
       "  <thead>\n",
       "    <tr style=\"text-align: right;\">\n",
       "      <th></th>\n",
       "      <th>carton_type</th>\n",
       "      <th>orderkey</th>\n",
       "      <th>len_mm</th>\n",
       "      <th>wid_mm</th>\n",
       "      <th>hgt_mm</th>\n",
       "      <th>skucat</th>\n",
       "      <th>sum_vol</th>\n",
       "      <th>isgift</th>\n",
       "      <th>qtyshipped</th>\n",
       "      <th>country</th>\n",
       "      <th>storage_type</th>\n",
       "    </tr>\n",
       "    <tr>\n",
       "      <th>orderkey</th>\n",
       "      <th></th>\n",
       "      <th></th>\n",
       "      <th></th>\n",
       "      <th></th>\n",
       "      <th></th>\n",
       "      <th></th>\n",
       "      <th></th>\n",
       "      <th></th>\n",
       "      <th></th>\n",
       "      <th></th>\n",
       "      <th></th>\n",
       "    </tr>\n",
       "  </thead>\n",
       "  <tbody>\n",
       "    <tr>\n",
       "      <th>2291743</th>\n",
       "      <td>C211</td>\n",
       "      <td>2291743</td>\n",
       "      <td>89.0</td>\n",
       "      <td>89.0</td>\n",
       "      <td>36.0</td>\n",
       "      <td>18</td>\n",
       "      <td>0.285156</td>\n",
       "      <td>1</td>\n",
       "      <td>1</td>\n",
       "      <td>KR</td>\n",
       "      <td>MS</td>\n",
       "    </tr>\n",
       "    <tr>\n",
       "      <th>2291745</th>\n",
       "      <td>C211</td>\n",
       "      <td>2291745</td>\n",
       "      <td>89.0</td>\n",
       "      <td>89.0</td>\n",
       "      <td>36.0</td>\n",
       "      <td>18</td>\n",
       "      <td>0.285156</td>\n",
       "      <td>1</td>\n",
       "      <td>1</td>\n",
       "      <td>KR</td>\n",
       "      <td>MS</td>\n",
       "    </tr>\n",
       "    <tr>\n",
       "      <th>2291760</th>\n",
       "      <td>C211</td>\n",
       "      <td>2291760</td>\n",
       "      <td>104.0</td>\n",
       "      <td>83.0</td>\n",
       "      <td>59.0</td>\n",
       "      <td>18</td>\n",
       "      <td>0.509288</td>\n",
       "      <td>1</td>\n",
       "      <td>1</td>\n",
       "      <td>KR</td>\n",
       "      <td>MS</td>\n",
       "    </tr>\n",
       "    <tr>\n",
       "      <th>2291768</th>\n",
       "      <td>C211</td>\n",
       "      <td>2291768</td>\n",
       "      <td>145.0</td>\n",
       "      <td>91.0</td>\n",
       "      <td>42.0</td>\n",
       "      <td>18</td>\n",
       "      <td>0.554190</td>\n",
       "      <td>1</td>\n",
       "      <td>1</td>\n",
       "      <td>KR</td>\n",
       "      <td>MS</td>\n",
       "    </tr>\n",
       "    <tr>\n",
       "      <th>2291772</th>\n",
       "      <td>C211</td>\n",
       "      <td>2291772</td>\n",
       "      <td>89.0</td>\n",
       "      <td>89.0</td>\n",
       "      <td>36.0</td>\n",
       "      <td>18</td>\n",
       "      <td>0.285156</td>\n",
       "      <td>1</td>\n",
       "      <td>1</td>\n",
       "      <td>KR</td>\n",
       "      <td>MS</td>\n",
       "    </tr>\n",
       "    <tr>\n",
       "      <th>...</th>\n",
       "      <td>...</td>\n",
       "      <td>...</td>\n",
       "      <td>...</td>\n",
       "      <td>...</td>\n",
       "      <td>...</td>\n",
       "      <td>...</td>\n",
       "      <td>...</td>\n",
       "      <td>...</td>\n",
       "      <td>...</td>\n",
       "      <td>...</td>\n",
       "      <td>...</td>\n",
       "    </tr>\n",
       "    <tr>\n",
       "      <th>2565686</th>\n",
       "      <td>C321</td>\n",
       "      <td>2565686</td>\n",
       "      <td>118.0</td>\n",
       "      <td>82.0</td>\n",
       "      <td>82.0</td>\n",
       "      <td>34</td>\n",
       "      <td>0.793432</td>\n",
       "      <td>1</td>\n",
       "      <td>1</td>\n",
       "      <td>AU</td>\n",
       "      <td>MS</td>\n",
       "    </tr>\n",
       "    <tr>\n",
       "      <th>2565687</th>\n",
       "      <td>C431</td>\n",
       "      <td>2565687</td>\n",
       "      <td>152.0</td>\n",
       "      <td>122.0</td>\n",
       "      <td>54.0</td>\n",
       "      <td>18</td>\n",
       "      <td>3.004128</td>\n",
       "      <td>0</td>\n",
       "      <td>3</td>\n",
       "      <td>AU</td>\n",
       "      <td>MS</td>\n",
       "    </tr>\n",
       "    <tr>\n",
       "      <th>2565691</th>\n",
       "      <td>C321</td>\n",
       "      <td>2565691</td>\n",
       "      <td>102.0</td>\n",
       "      <td>102.0</td>\n",
       "      <td>81.0</td>\n",
       "      <td>18</td>\n",
       "      <td>1.092366</td>\n",
       "      <td>0</td>\n",
       "      <td>2</td>\n",
       "      <td>AU</td>\n",
       "      <td>MS</td>\n",
       "    </tr>\n",
       "    <tr>\n",
       "      <th>2565692</th>\n",
       "      <td>C211</td>\n",
       "      <td>2565692</td>\n",
       "      <td>89.0</td>\n",
       "      <td>89.0</td>\n",
       "      <td>36.0</td>\n",
       "      <td>18</td>\n",
       "      <td>0.446436</td>\n",
       "      <td>0</td>\n",
       "      <td>2</td>\n",
       "      <td>AU</td>\n",
       "      <td>MS</td>\n",
       "    </tr>\n",
       "    <tr>\n",
       "      <th>2565693</th>\n",
       "      <td>C211</td>\n",
       "      <td>2565693</td>\n",
       "      <td>104.0</td>\n",
       "      <td>83.0</td>\n",
       "      <td>59.0</td>\n",
       "      <td>18</td>\n",
       "      <td>0.672638</td>\n",
       "      <td>0</td>\n",
       "      <td>2</td>\n",
       "      <td>AU</td>\n",
       "      <td>MS</td>\n",
       "    </tr>\n",
       "  </tbody>\n",
       "</table>\n",
       "<p>32726 rows × 11 columns</p>\n",
       "</div>"
      ],
      "text/plain": [
       "         carton_type  orderkey  len_mm  wid_mm  hgt_mm  skucat   sum_vol  \\\n",
       "orderkey                                                                   \n",
       "2291743         C211   2291743    89.0    89.0    36.0      18  0.285156   \n",
       "2291745         C211   2291745    89.0    89.0    36.0      18  0.285156   \n",
       "2291760         C211   2291760   104.0    83.0    59.0      18  0.509288   \n",
       "2291768         C211   2291768   145.0    91.0    42.0      18  0.554190   \n",
       "2291772         C211   2291772    89.0    89.0    36.0      18  0.285156   \n",
       "...              ...       ...     ...     ...     ...     ...       ...   \n",
       "2565686         C321   2565686   118.0    82.0    82.0      34  0.793432   \n",
       "2565687         C431   2565687   152.0   122.0    54.0      18  3.004128   \n",
       "2565691         C321   2565691   102.0   102.0    81.0      18  1.092366   \n",
       "2565692         C211   2565692    89.0    89.0    36.0      18  0.446436   \n",
       "2565693         C211   2565693   104.0    83.0    59.0      18  0.672638   \n",
       "\n",
       "          isgift  qtyshipped country storage_type  \n",
       "orderkey                                           \n",
       "2291743        1           1      KR           MS  \n",
       "2291745        1           1      KR           MS  \n",
       "2291760        1           1      KR           MS  \n",
       "2291768        1           1      KR           MS  \n",
       "2291772        1           1      KR           MS  \n",
       "...          ...         ...     ...          ...  \n",
       "2565686        1           1      AU           MS  \n",
       "2565687        0           3      AU           MS  \n",
       "2565691        0           2      AU           MS  \n",
       "2565692        0           2      AU           MS  \n",
       "2565693        0           2      AU           MS  \n",
       "\n",
       "[32726 rows x 11 columns]"
      ]
     },
     "execution_count": 7,
     "metadata": {},
     "output_type": "execute_result"
    }
   ],
   "source": [
    "\n",
    "from statistics import mode\n",
    "\n",
    "\n",
    "df1 = df_noid.groupby('orderkey')[['skucat','country','qtyshipped','storage_type','vol_dm3','carton_type', 'isgift', 'orderkey','len_mm','wid_mm','hgt_mm']].agg(#lambda x : list(x))\n",
    "    carton_type = pd.NamedAgg(column='carton_type', aggfunc = max),\n",
    "    orderkey = pd.NamedAgg(column='orderkey', aggfunc = max),\n",
    "    len_mm = pd.NamedAgg(column='len_mm', aggfunc = max),\n",
    "    wid_mm = pd.NamedAgg(column='wid_mm', aggfunc = max),\n",
    "    hgt_mm = pd.NamedAgg(column='hgt_mm', aggfunc = max),\n",
    "    skucat = pd.NamedAgg(column='skucat', aggfunc = mode),\n",
    "    sum_vol = pd.NamedAgg(column='vol_dm3', aggfunc = sum),\n",
    "    isgift = pd.NamedAgg(column='isgift', aggfunc = max),\n",
    "    qtyshipped = pd.NamedAgg(column='qtyshipped', aggfunc = sum),\n",
    "    country = pd.NamedAgg(column='country', aggfunc = mode),\n",
    "    storage_type = pd.NamedAgg(column='storage_type', aggfunc = mode))\n",
    "df1\n"
   ]
  },
  {
   "cell_type": "markdown",
   "metadata": {},
   "source": [
    "Import the recommended cartons by the heuristic"
   ]
  },
  {
   "cell_type": "code",
   "execution_count": 8,
   "metadata": {},
   "outputs": [
    {
     "data": {
      "text/html": [
       "<div>\n",
       "<style scoped>\n",
       "    .dataframe tbody tr th:only-of-type {\n",
       "        vertical-align: middle;\n",
       "    }\n",
       "\n",
       "    .dataframe tbody tr th {\n",
       "        vertical-align: top;\n",
       "    }\n",
       "\n",
       "    .dataframe thead th {\n",
       "        text-align: right;\n",
       "    }\n",
       "</style>\n",
       "<table border=\"1\" class=\"dataframe\">\n",
       "  <thead>\n",
       "    <tr style=\"text-align: right;\">\n",
       "      <th></th>\n",
       "      <th>recommend_ctn</th>\n",
       "    </tr>\n",
       "    <tr>\n",
       "      <th>orderkey</th>\n",
       "      <th></th>\n",
       "    </tr>\n",
       "  </thead>\n",
       "  <tbody>\n",
       "    <tr>\n",
       "      <th>2291743</th>\n",
       "      <td>C211</td>\n",
       "    </tr>\n",
       "    <tr>\n",
       "      <th>2291745</th>\n",
       "      <td>C211</td>\n",
       "    </tr>\n",
       "    <tr>\n",
       "      <th>2291760</th>\n",
       "      <td>C211</td>\n",
       "    </tr>\n",
       "    <tr>\n",
       "      <th>2291768</th>\n",
       "      <td>C211</td>\n",
       "    </tr>\n",
       "    <tr>\n",
       "      <th>2291772</th>\n",
       "      <td>C211</td>\n",
       "    </tr>\n",
       "  </tbody>\n",
       "</table>\n",
       "</div>"
      ],
      "text/plain": [
       "         recommend_ctn\n",
       "orderkey              \n",
       "2291743           C211\n",
       "2291745           C211\n",
       "2291760           C211\n",
       "2291768           C211\n",
       "2291772           C211"
      ]
     },
     "execution_count": 8,
     "metadata": {},
     "output_type": "execute_result"
    }
   ],
   "source": [
    "new_carton = pd.read_excel('../data/recommended_ctn.xlsx',index_col='orderkey')\n",
    "new_carton.head()"
   ]
  },
  {
   "cell_type": "markdown",
   "metadata": {},
   "source": [
    "Set the carton_type column to be the cartons recommended by the heuristic"
   ]
  },
  {
   "cell_type": "code",
   "execution_count": 9,
   "metadata": {},
   "outputs": [
    {
     "data": {
      "text/html": [
       "<div>\n",
       "<style scoped>\n",
       "    .dataframe tbody tr th:only-of-type {\n",
       "        vertical-align: middle;\n",
       "    }\n",
       "\n",
       "    .dataframe tbody tr th {\n",
       "        vertical-align: top;\n",
       "    }\n",
       "\n",
       "    .dataframe thead th {\n",
       "        text-align: right;\n",
       "    }\n",
       "</style>\n",
       "<table border=\"1\" class=\"dataframe\">\n",
       "  <thead>\n",
       "    <tr style=\"text-align: right;\">\n",
       "      <th></th>\n",
       "      <th>carton_type</th>\n",
       "      <th>orderkey</th>\n",
       "      <th>len_mm</th>\n",
       "      <th>wid_mm</th>\n",
       "      <th>hgt_mm</th>\n",
       "      <th>skucat</th>\n",
       "      <th>sum_vol</th>\n",
       "      <th>isgift</th>\n",
       "      <th>qtyshipped</th>\n",
       "      <th>country</th>\n",
       "      <th>storage_type</th>\n",
       "    </tr>\n",
       "    <tr>\n",
       "      <th>orderkey</th>\n",
       "      <th></th>\n",
       "      <th></th>\n",
       "      <th></th>\n",
       "      <th></th>\n",
       "      <th></th>\n",
       "      <th></th>\n",
       "      <th></th>\n",
       "      <th></th>\n",
       "      <th></th>\n",
       "      <th></th>\n",
       "      <th></th>\n",
       "    </tr>\n",
       "  </thead>\n",
       "  <tbody>\n",
       "    <tr>\n",
       "      <th>2291743</th>\n",
       "      <td>C211</td>\n",
       "      <td>2291743</td>\n",
       "      <td>89.0</td>\n",
       "      <td>89.0</td>\n",
       "      <td>36.0</td>\n",
       "      <td>18</td>\n",
       "      <td>0.285156</td>\n",
       "      <td>1</td>\n",
       "      <td>1</td>\n",
       "      <td>KR</td>\n",
       "      <td>MS</td>\n",
       "    </tr>\n",
       "    <tr>\n",
       "      <th>2291745</th>\n",
       "      <td>C211</td>\n",
       "      <td>2291745</td>\n",
       "      <td>89.0</td>\n",
       "      <td>89.0</td>\n",
       "      <td>36.0</td>\n",
       "      <td>18</td>\n",
       "      <td>0.285156</td>\n",
       "      <td>1</td>\n",
       "      <td>1</td>\n",
       "      <td>KR</td>\n",
       "      <td>MS</td>\n",
       "    </tr>\n",
       "    <tr>\n",
       "      <th>2291760</th>\n",
       "      <td>C211</td>\n",
       "      <td>2291760</td>\n",
       "      <td>104.0</td>\n",
       "      <td>83.0</td>\n",
       "      <td>59.0</td>\n",
       "      <td>18</td>\n",
       "      <td>0.509288</td>\n",
       "      <td>1</td>\n",
       "      <td>1</td>\n",
       "      <td>KR</td>\n",
       "      <td>MS</td>\n",
       "    </tr>\n",
       "    <tr>\n",
       "      <th>2291768</th>\n",
       "      <td>C211</td>\n",
       "      <td>2291768</td>\n",
       "      <td>145.0</td>\n",
       "      <td>91.0</td>\n",
       "      <td>42.0</td>\n",
       "      <td>18</td>\n",
       "      <td>0.554190</td>\n",
       "      <td>1</td>\n",
       "      <td>1</td>\n",
       "      <td>KR</td>\n",
       "      <td>MS</td>\n",
       "    </tr>\n",
       "    <tr>\n",
       "      <th>2291772</th>\n",
       "      <td>C211</td>\n",
       "      <td>2291772</td>\n",
       "      <td>89.0</td>\n",
       "      <td>89.0</td>\n",
       "      <td>36.0</td>\n",
       "      <td>18</td>\n",
       "      <td>0.285156</td>\n",
       "      <td>1</td>\n",
       "      <td>1</td>\n",
       "      <td>KR</td>\n",
       "      <td>MS</td>\n",
       "    </tr>\n",
       "    <tr>\n",
       "      <th>...</th>\n",
       "      <td>...</td>\n",
       "      <td>...</td>\n",
       "      <td>...</td>\n",
       "      <td>...</td>\n",
       "      <td>...</td>\n",
       "      <td>...</td>\n",
       "      <td>...</td>\n",
       "      <td>...</td>\n",
       "      <td>...</td>\n",
       "      <td>...</td>\n",
       "      <td>...</td>\n",
       "    </tr>\n",
       "    <tr>\n",
       "      <th>2565686</th>\n",
       "      <td>C321</td>\n",
       "      <td>2565686</td>\n",
       "      <td>118.0</td>\n",
       "      <td>82.0</td>\n",
       "      <td>82.0</td>\n",
       "      <td>34</td>\n",
       "      <td>0.793432</td>\n",
       "      <td>1</td>\n",
       "      <td>1</td>\n",
       "      <td>AU</td>\n",
       "      <td>MS</td>\n",
       "    </tr>\n",
       "    <tr>\n",
       "      <th>2565687</th>\n",
       "      <td>C321</td>\n",
       "      <td>2565687</td>\n",
       "      <td>152.0</td>\n",
       "      <td>122.0</td>\n",
       "      <td>54.0</td>\n",
       "      <td>18</td>\n",
       "      <td>3.004128</td>\n",
       "      <td>0</td>\n",
       "      <td>3</td>\n",
       "      <td>AU</td>\n",
       "      <td>MS</td>\n",
       "    </tr>\n",
       "    <tr>\n",
       "      <th>2565691</th>\n",
       "      <td>C321</td>\n",
       "      <td>2565691</td>\n",
       "      <td>102.0</td>\n",
       "      <td>102.0</td>\n",
       "      <td>81.0</td>\n",
       "      <td>18</td>\n",
       "      <td>1.092366</td>\n",
       "      <td>0</td>\n",
       "      <td>2</td>\n",
       "      <td>AU</td>\n",
       "      <td>MS</td>\n",
       "    </tr>\n",
       "    <tr>\n",
       "      <th>2565692</th>\n",
       "      <td>C211</td>\n",
       "      <td>2565692</td>\n",
       "      <td>89.0</td>\n",
       "      <td>89.0</td>\n",
       "      <td>36.0</td>\n",
       "      <td>18</td>\n",
       "      <td>0.446436</td>\n",
       "      <td>0</td>\n",
       "      <td>2</td>\n",
       "      <td>AU</td>\n",
       "      <td>MS</td>\n",
       "    </tr>\n",
       "    <tr>\n",
       "      <th>2565693</th>\n",
       "      <td>C211</td>\n",
       "      <td>2565693</td>\n",
       "      <td>104.0</td>\n",
       "      <td>83.0</td>\n",
       "      <td>59.0</td>\n",
       "      <td>18</td>\n",
       "      <td>0.672638</td>\n",
       "      <td>0</td>\n",
       "      <td>2</td>\n",
       "      <td>AU</td>\n",
       "      <td>MS</td>\n",
       "    </tr>\n",
       "  </tbody>\n",
       "</table>\n",
       "<p>32726 rows × 11 columns</p>\n",
       "</div>"
      ],
      "text/plain": [
       "         carton_type  orderkey  len_mm  wid_mm  hgt_mm  skucat   sum_vol  \\\n",
       "orderkey                                                                   \n",
       "2291743         C211   2291743    89.0    89.0    36.0      18  0.285156   \n",
       "2291745         C211   2291745    89.0    89.0    36.0      18  0.285156   \n",
       "2291760         C211   2291760   104.0    83.0    59.0      18  0.509288   \n",
       "2291768         C211   2291768   145.0    91.0    42.0      18  0.554190   \n",
       "2291772         C211   2291772    89.0    89.0    36.0      18  0.285156   \n",
       "...              ...       ...     ...     ...     ...     ...       ...   \n",
       "2565686         C321   2565686   118.0    82.0    82.0      34  0.793432   \n",
       "2565687         C321   2565687   152.0   122.0    54.0      18  3.004128   \n",
       "2565691         C321   2565691   102.0   102.0    81.0      18  1.092366   \n",
       "2565692         C211   2565692    89.0    89.0    36.0      18  0.446436   \n",
       "2565693         C211   2565693   104.0    83.0    59.0      18  0.672638   \n",
       "\n",
       "          isgift  qtyshipped country storage_type  \n",
       "orderkey                                           \n",
       "2291743        1           1      KR           MS  \n",
       "2291745        1           1      KR           MS  \n",
       "2291760        1           1      KR           MS  \n",
       "2291768        1           1      KR           MS  \n",
       "2291772        1           1      KR           MS  \n",
       "...          ...         ...     ...          ...  \n",
       "2565686        1           1      AU           MS  \n",
       "2565687        0           3      AU           MS  \n",
       "2565691        0           2      AU           MS  \n",
       "2565692        0           2      AU           MS  \n",
       "2565693        0           2      AU           MS  \n",
       "\n",
       "[32726 rows x 11 columns]"
      ]
     },
     "execution_count": 9,
     "metadata": {},
     "output_type": "execute_result"
    }
   ],
   "source": [
    "df1['carton_type']=new_carton['recommend_ctn']\n",
    "df1"
   ]
  },
  {
   "cell_type": "code",
   "execution_count": 10,
   "metadata": {},
   "outputs": [],
   "source": [
    "df_max=df1"
   ]
  },
  {
   "cell_type": "markdown",
   "metadata": {},
   "source": [
    "df_max will be the main Dataframe used in the training process after the data cleaning and preprocessing."
   ]
  },
  {
   "cell_type": "markdown",
   "metadata": {},
   "source": [
    "The test dataset is an out of sample data of 4000 orders. This is to test the generalisability of the model should there be any changes the dimensions of the products in the orders.\n"
   ]
  },
  {
   "cell_type": "code",
   "execution_count": 11,
   "metadata": {},
   "outputs": [
    {
     "data": {
      "text/html": [
       "<div>\n",
       "<style scoped>\n",
       "    .dataframe tbody tr th:only-of-type {\n",
       "        vertical-align: middle;\n",
       "    }\n",
       "\n",
       "    .dataframe tbody tr th {\n",
       "        vertical-align: top;\n",
       "    }\n",
       "\n",
       "    .dataframe thead th {\n",
       "        text-align: right;\n",
       "    }\n",
       "</style>\n",
       "<table border=\"1\" class=\"dataframe\">\n",
       "  <thead>\n",
       "    <tr style=\"text-align: right;\">\n",
       "      <th></th>\n",
       "      <th>len_mm</th>\n",
       "      <th>wid_mm</th>\n",
       "      <th>hgt_mm</th>\n",
       "      <th>sum_vol</th>\n",
       "      <th>isgift</th>\n",
       "      <th>qtyshipped</th>\n",
       "      <th>carton_type</th>\n",
       "    </tr>\n",
       "    <tr>\n",
       "      <th>orderkey</th>\n",
       "      <th></th>\n",
       "      <th></th>\n",
       "      <th></th>\n",
       "      <th></th>\n",
       "      <th></th>\n",
       "      <th></th>\n",
       "      <th></th>\n",
       "    </tr>\n",
       "  </thead>\n",
       "  <tbody>\n",
       "    <tr>\n",
       "      <th>2996514</th>\n",
       "      <td>154.0</td>\n",
       "      <td>125</td>\n",
       "      <td>32</td>\n",
       "      <td>0.616000</td>\n",
       "      <td>1</td>\n",
       "      <td>1</td>\n",
       "      <td>C321</td>\n",
       "    </tr>\n",
       "    <tr>\n",
       "      <th>2996518</th>\n",
       "      <td>118.0</td>\n",
       "      <td>82</td>\n",
       "      <td>82</td>\n",
       "      <td>1.210320</td>\n",
       "      <td>0</td>\n",
       "      <td>2</td>\n",
       "      <td>C321</td>\n",
       "    </tr>\n",
       "    <tr>\n",
       "      <th>2996520</th>\n",
       "      <td>104.0</td>\n",
       "      <td>83</td>\n",
       "      <td>59</td>\n",
       "      <td>0.509288</td>\n",
       "      <td>1</td>\n",
       "      <td>1</td>\n",
       "      <td>C211</td>\n",
       "    </tr>\n",
       "    <tr>\n",
       "      <th>2996522</th>\n",
       "      <td>226.0</td>\n",
       "      <td>89</td>\n",
       "      <td>70</td>\n",
       "      <td>1.977796</td>\n",
       "      <td>1</td>\n",
       "      <td>4</td>\n",
       "      <td>C431</td>\n",
       "    </tr>\n",
       "    <tr>\n",
       "      <th>2996523</th>\n",
       "      <td>225.0</td>\n",
       "      <td>89</td>\n",
       "      <td>70</td>\n",
       "      <td>1.751562</td>\n",
       "      <td>1</td>\n",
       "      <td>3</td>\n",
       "      <td>C431</td>\n",
       "    </tr>\n",
       "    <tr>\n",
       "      <th>...</th>\n",
       "      <td>...</td>\n",
       "      <td>...</td>\n",
       "      <td>...</td>\n",
       "      <td>...</td>\n",
       "      <td>...</td>\n",
       "      <td>...</td>\n",
       "      <td>...</td>\n",
       "    </tr>\n",
       "    <tr>\n",
       "      <th>3062581</th>\n",
       "      <td>111.0</td>\n",
       "      <td>92</td>\n",
       "      <td>53</td>\n",
       "      <td>0.541236</td>\n",
       "      <td>0</td>\n",
       "      <td>1</td>\n",
       "      <td>C211</td>\n",
       "    </tr>\n",
       "    <tr>\n",
       "      <th>3062582</th>\n",
       "      <td>81.0</td>\n",
       "      <td>67</td>\n",
       "      <td>46</td>\n",
       "      <td>0.249642</td>\n",
       "      <td>1</td>\n",
       "      <td>1</td>\n",
       "      <td>C211</td>\n",
       "    </tr>\n",
       "    <tr>\n",
       "      <th>3062586</th>\n",
       "      <td>123.0</td>\n",
       "      <td>120</td>\n",
       "      <td>118</td>\n",
       "      <td>1.741680</td>\n",
       "      <td>1</td>\n",
       "      <td>1</td>\n",
       "      <td>C321</td>\n",
       "    </tr>\n",
       "    <tr>\n",
       "      <th>3062587</th>\n",
       "      <td>431.0</td>\n",
       "      <td>341</td>\n",
       "      <td>99</td>\n",
       "      <td>14.550000</td>\n",
       "      <td>1</td>\n",
       "      <td>1</td>\n",
       "      <td>C543</td>\n",
       "    </tr>\n",
       "    <tr>\n",
       "      <th>3063319</th>\n",
       "      <td>198.0</td>\n",
       "      <td>198</td>\n",
       "      <td>132</td>\n",
       "      <td>5.174928</td>\n",
       "      <td>0</td>\n",
       "      <td>1</td>\n",
       "      <td>C432</td>\n",
       "    </tr>\n",
       "  </tbody>\n",
       "</table>\n",
       "<p>4000 rows × 7 columns</p>\n",
       "</div>"
      ],
      "text/plain": [
       "          len_mm  wid_mm  hgt_mm    sum_vol  isgift  qtyshipped carton_type\n",
       "orderkey                                                                   \n",
       "2996514    154.0     125      32   0.616000       1           1        C321\n",
       "2996518    118.0      82      82   1.210320       0           2        C321\n",
       "2996520    104.0      83      59   0.509288       1           1        C211\n",
       "2996522    226.0      89      70   1.977796       1           4        C431\n",
       "2996523    225.0      89      70   1.751562       1           3        C431\n",
       "...          ...     ...     ...        ...     ...         ...         ...\n",
       "3062581    111.0      92      53   0.541236       0           1        C211\n",
       "3062582     81.0      67      46   0.249642       1           1        C211\n",
       "3062586    123.0     120     118   1.741680       1           1        C321\n",
       "3062587    431.0     341      99  14.550000       1           1        C543\n",
       "3063319    198.0     198     132   5.174928       0           1        C432\n",
       "\n",
       "[4000 rows x 7 columns]"
      ]
     },
     "execution_count": 11,
     "metadata": {},
     "output_type": "execute_result"
    }
   ],
   "source": [
    "test=pd.read_excel('../data/out_of_sample_recommend.xlsx',index_col='orderkey')\n",
    "test.drop(['orderkey1','actual_carton','planned_ctn'],axis=1,inplace=True)\n",
    "test.rename(columns = {'recommend_ctn':'carton_type', 'max_len':'len_mm', 'max_wid':'wid_mm', 'max_hgt':'hgt_mm'},inplace = True)\n",
    "test"
   ]
  },
  {
   "cell_type": "markdown",
   "metadata": {},
   "source": [
    "test will be the dataframe used for testing and evaluation of the final mode."
   ]
  },
  {
   "cell_type": "markdown",
   "metadata": {},
   "source": [
    "## Analysis"
   ]
  },
  {
   "cell_type": "code",
   "execution_count": 12,
   "metadata": {},
   "outputs": [],
   "source": [
    "import numpy as np\n",
    "import pandas as pd\n",
    "import matplotlib.pyplot as plt\n",
    "from sklearn.preprocessing import OneHotEncoder, OrdinalEncoder, StandardScaler, LabelEncoder\n",
    "from sklearn.compose import ColumnTransformer, make_column_selector\n",
    "from sklearn import set_config\n",
    "from category_encoders import TargetEncoder\n",
    "from sklearn import neighbors, metrics, preprocessing\n",
    "from sklearn.model_selection import GridSearchCV, train_test_split, cross_val_score, validation_curve\n",
    "from sklearn.metrics import classification_report, confusion_matrix, roc_curve, auc, f1_score, precision_recall_curve\n",
    "from sklearn.metrics import ConfusionMatrixDisplay, matthews_corrcoef\n",
    "from sklearn.feature_selection import SelectKBest, chi2, mutual_info_classif\n",
    "from sklearn.ensemble import RandomForestClassifier\n",
    "from sklearn.tree import DecisionTreeClassifier\n",
    "from sklearn.linear_model import LogisticRegression\n",
    "from sklearn.neighbors import KNeighborsClassifier\n",
    "from sklearn.utils import resample"
   ]
  },
  {
   "cell_type": "markdown",
   "metadata": {},
   "source": [
    "Split df_max into a train and test set"
   ]
  },
  {
   "cell_type": "code",
   "execution_count": 13,
   "metadata": {},
   "outputs": [],
   "source": [
    "df_max = df_max.astype({'skucat': 'str', 'isgift': 'str','country': 'str', 'storage_type': 'str'})\n",
    "y_train = df_max.carton_type\n",
    "X_train = df_max.drop('carton_type',axis=1)\n",
    "# y = df_max.carton_type\n",
    "# X = df_max.drop('carton_type',axis=1)\n",
    "# X_train, X_test, y_train, y_test = train_test_split(X, y, test_size=0.25, random_state=27)"
   ]
  },
  {
   "cell_type": "code",
   "execution_count": 14,
   "metadata": {},
   "outputs": [],
   "source": [
    "test = test.astype({'isgift': 'str'})\n",
    "y_test = test.carton_type\n",
    "X_test = test.drop('carton_type',axis=1)"
   ]
  },
  {
   "cell_type": "markdown",
   "metadata": {},
   "source": [
    "### Feature Selection"
   ]
  },
  {
   "cell_type": "markdown",
   "metadata": {},
   "source": [
    "Feature selection will be done first before the resampling of data"
   ]
  },
  {
   "cell_type": "code",
   "execution_count": 15,
   "metadata": {},
   "outputs": [
    {
     "data": {
      "text/plain": [
       "array([0.4258, 0.3648, 0.3798, 0.6591, 0.1183])"
      ]
     },
     "execution_count": 15,
     "metadata": {},
     "output_type": "execute_result"
    }
   ],
   "source": [
    "X_num = X_train.loc[:,['len_mm','wid_mm','hgt_mm','sum_vol','qtyshipped']]\n",
    "skb = SelectKBest(mutual_info_classif, k=5)\n",
    "skb.fit(X_num, y_train)\n",
    "skb.scores_.round(4)"
   ]
  },
  {
   "cell_type": "code",
   "execution_count": 16,
   "metadata": {},
   "outputs": [],
   "source": [
    "X_cat_df = X_train.loc[:,['skucat','isgift','country','storage_type'] ]\n",
    "oe1 = OrdinalEncoder()\n",
    "oe1.fit(X_cat_df)\n",
    "X_cat = oe1.transform(X_cat_df)"
   ]
  },
  {
   "cell_type": "code",
   "execution_count": 17,
   "metadata": {},
   "outputs": [
    {
     "data": {
      "text/plain": [
       "array([0.1236, 0.0098, 0.0053, 0.0132])"
      ]
     },
     "execution_count": 17,
     "metadata": {},
     "output_type": "execute_result"
    }
   ],
   "source": [
    "skb2 = SelectKBest(mutual_info_classif, k=3)\n",
    "skb2.fit(X_cat, y_train)\n",
    "skb2.scores_.round(4)\n"
   ]
  },
  {
   "cell_type": "markdown",
   "metadata": {},
   "source": [
    "From the above, it is clear that len_mm, wid_mm, hgt_mm, sum_vol, qtyshipped, isgift and skucat are the features which are more informative in the classification of carton_types."
   ]
  },
  {
   "cell_type": "code",
   "execution_count": 18,
   "metadata": {},
   "outputs": [
    {
     "data": {
      "text/plain": [
       "18    27146\n",
       "34     2084\n",
       "14     1737\n",
       "58      804\n",
       "47      706\n",
       "94      147\n",
       "48       70\n",
       "20       25\n",
       "45        7\n",
       "Name: skucat, dtype: int64"
      ]
     },
     "execution_count": 18,
     "metadata": {},
     "output_type": "execute_result"
    }
   ],
   "source": [
    "df_max.skucat.value_counts()"
   ]
  },
  {
   "cell_type": "markdown",
   "metadata": {},
   "source": [
    "Since skucat only has 7 occurences of category 45, this may result in the category not being present in both the train and test dataset. As such, we will be exlcuding it as a feature despite indication that it is one of the more informative features.\n",
    "\n",
    "Thus the final feature set will have the following 6 features as seen below."
   ]
  },
  {
   "cell_type": "code",
   "execution_count": 19,
   "metadata": {},
   "outputs": [],
   "source": [
    "num_features = ['len_mm','wid_mm','hgt_mm','sum_vol','qtyshipped']\n",
    "cat_features = ['isgift']\n",
    "all_features = num_features + cat_features"
   ]
  },
  {
   "cell_type": "code",
   "execution_count": 20,
   "metadata": {},
   "outputs": [],
   "source": [
    "X_train = X_train.loc[:, all_features]\n",
    "X_test = X_test.loc[:, all_features]"
   ]
  },
  {
   "cell_type": "markdown",
   "metadata": {},
   "source": [
    "### Data Resampling"
   ]
  },
  {
   "cell_type": "markdown",
   "metadata": {},
   "source": [
    "Now that the features have been selected, the class distribution of the target variable should be checked. This is due to a high likelihood of imbalanced data as larger cartons are less likely to be used."
   ]
  },
  {
   "cell_type": "code",
   "execution_count": 21,
   "metadata": {},
   "outputs": [
    {
     "data": {
      "image/png": "[encoded data removed]",
      "text/plain": [
       "<Figure size 432x288 with 1 Axes>"
      ]
     },
     "metadata": {
      "needs_background": "light"
     },
     "output_type": "display_data"
    }
   ],
   "source": [
    "sns.countplot(x='carton_type',data=df_max)\n",
    "plt.title('Carton Type Distribution')\n",
    "plt.show()"
   ]
  },
  {
   "cell_type": "code",
   "execution_count": 22,
   "metadata": {},
   "outputs": [
    {
     "data": {
      "text/plain": [
       "C211    24482\n",
       "C321     5078\n",
       "C431     1928\n",
       "C432      904\n",
       "C543      334\n",
       "Name: carton_type, dtype: int64"
      ]
     },
     "execution_count": 22,
     "metadata": {},
     "output_type": "execute_result"
    }
   ],
   "source": [
    "df_max.carton_type.value_counts()"
   ]
  },
  {
   "cell_type": "markdown",
   "metadata": {},
   "source": [
    "As it turns out, there are 5 different carton types which make up the target variable. However, the distribution of the cartons are imbalanced. To solve this problem of imbalanced data classes, we will be resampling all the classes to a standard 1000 sample size."
   ]
  },
  {
   "cell_type": "code",
   "execution_count": 23,
   "metadata": {},
   "outputs": [
    {
     "data": {
      "text/html": [
       "<div>\n",
       "<style scoped>\n",
       "    .dataframe tbody tr th:only-of-type {\n",
       "        vertical-align: middle;\n",
       "    }\n",
       "\n",
       "    .dataframe tbody tr th {\n",
       "        vertical-align: top;\n",
       "    }\n",
       "\n",
       "    .dataframe thead th {\n",
       "        text-align: right;\n",
       "    }\n",
       "</style>\n",
       "<table border=\"1\" class=\"dataframe\">\n",
       "  <thead>\n",
       "    <tr style=\"text-align: right;\">\n",
       "      <th></th>\n",
       "      <th>len_mm</th>\n",
       "      <th>wid_mm</th>\n",
       "      <th>hgt_mm</th>\n",
       "      <th>sum_vol</th>\n",
       "      <th>qtyshipped</th>\n",
       "      <th>isgift</th>\n",
       "      <th>carton_type</th>\n",
       "    </tr>\n",
       "    <tr>\n",
       "      <th>orderkey</th>\n",
       "      <th></th>\n",
       "      <th></th>\n",
       "      <th></th>\n",
       "      <th></th>\n",
       "      <th></th>\n",
       "      <th></th>\n",
       "      <th></th>\n",
       "    </tr>\n",
       "  </thead>\n",
       "  <tbody>\n",
       "    <tr>\n",
       "      <th>2291743</th>\n",
       "      <td>89.0</td>\n",
       "      <td>89.0</td>\n",
       "      <td>36.0</td>\n",
       "      <td>0.285156</td>\n",
       "      <td>1</td>\n",
       "      <td>1</td>\n",
       "      <td>C211</td>\n",
       "    </tr>\n",
       "    <tr>\n",
       "      <th>2291745</th>\n",
       "      <td>89.0</td>\n",
       "      <td>89.0</td>\n",
       "      <td>36.0</td>\n",
       "      <td>0.285156</td>\n",
       "      <td>1</td>\n",
       "      <td>1</td>\n",
       "      <td>C211</td>\n",
       "    </tr>\n",
       "    <tr>\n",
       "      <th>2291760</th>\n",
       "      <td>104.0</td>\n",
       "      <td>83.0</td>\n",
       "      <td>59.0</td>\n",
       "      <td>0.509288</td>\n",
       "      <td>1</td>\n",
       "      <td>1</td>\n",
       "      <td>C211</td>\n",
       "    </tr>\n",
       "    <tr>\n",
       "      <th>2291768</th>\n",
       "      <td>145.0</td>\n",
       "      <td>91.0</td>\n",
       "      <td>42.0</td>\n",
       "      <td>0.554190</td>\n",
       "      <td>1</td>\n",
       "      <td>1</td>\n",
       "      <td>C211</td>\n",
       "    </tr>\n",
       "    <tr>\n",
       "      <th>2291772</th>\n",
       "      <td>89.0</td>\n",
       "      <td>89.0</td>\n",
       "      <td>36.0</td>\n",
       "      <td>0.285156</td>\n",
       "      <td>1</td>\n",
       "      <td>1</td>\n",
       "      <td>C211</td>\n",
       "    </tr>\n",
       "  </tbody>\n",
       "</table>\n",
       "</div>"
      ],
      "text/plain": [
       "          len_mm  wid_mm  hgt_mm   sum_vol  qtyshipped isgift carton_type\n",
       "orderkey                                                                 \n",
       "2291743     89.0    89.0    36.0  0.285156           1      1        C211\n",
       "2291745     89.0    89.0    36.0  0.285156           1      1        C211\n",
       "2291760    104.0    83.0    59.0  0.509288           1      1        C211\n",
       "2291768    145.0    91.0    42.0  0.554190           1      1        C211\n",
       "2291772     89.0    89.0    36.0  0.285156           1      1        C211"
      ]
     },
     "execution_count": 23,
     "metadata": {},
     "output_type": "execute_result"
    }
   ],
   "source": [
    "# concatenate our training data back together\n",
    "X = pd.concat([X_train, y_train], axis=1)\n",
    "X.head()"
   ]
  },
  {
   "cell_type": "code",
   "execution_count": 24,
   "metadata": {},
   "outputs": [
    {
     "data": {
      "text/plain": [
       "C543    1000\n",
       "C211    1000\n",
       "C321    1000\n",
       "C431    1000\n",
       "C432    1000\n",
       "Name: carton_type, dtype: int64"
      ]
     },
     "execution_count": 24,
     "metadata": {},
     "output_type": "execute_result"
    }
   ],
   "source": [
    "# separate minority and majority classes\n",
    "c211 = X[X.carton_type=='C211']\n",
    "c321 = X[X.carton_type=='C321']\n",
    "c431 = X[X.carton_type=='C431']\n",
    "c432 = X[X.carton_type=='C432']\n",
    "c543 = X[X.carton_type=='C543']\n",
    "\n",
    "# resampling\n",
    "c543_us = resample(c543,\n",
    "                    replace=True, # sample with replacement\n",
    "                    n_samples=1000, # number of samples is 1000\n",
    "                    random_state=42) # reproducible results\n",
    "c211_ds = resample(c211,\n",
    "                    replace=False, # sample without replacement\n",
    "                    n_samples=1000, # number of samples is 1000\n",
    "                    random_state=42) # reproducible results\n",
    "c321_ds = resample(c321,\n",
    "                    replace=False, # sample without replacement\n",
    "                    n_samples=1000, # number of samples is 1000\n",
    "                    random_state=42) # reproducible results\n",
    "c431_ds = resample(c431,\n",
    "                    replace=False, # sample with replacement\n",
    "                    n_samples=1000, # number of samples is 1000\n",
    "                    random_state=42) # reproducible results\n",
    "c432_ds = resample(c432,\n",
    "                    replace=True, # sample with replacement\n",
    "                    n_samples=1000, # number of samples is 1000\n",
    "                    random_state=42) # reproducible results\t\t\t\t\t\t  \t\t\t\t\t\t  \t\t\t\t\t\t  \n",
    "\n",
    "\n",
    "\n",
    "# combine the sampled classes\n",
    "resampled = pd.concat([c543_us,c211_ds,c321_ds,c431_ds,c432_ds])\n",
    "\n",
    "# check new class counts\n",
    "resampled.carton_type.value_counts()"
   ]
  },
  {
   "cell_type": "code",
   "execution_count": 25,
   "metadata": {},
   "outputs": [],
   "source": [
    "y_train = resampled.carton_type\n",
    "X_train = resampled.drop('carton_type', axis=1)"
   ]
  },
  {
   "cell_type": "markdown",
   "metadata": {},
   "source": [
    "Now that our training data is resampled and the classes of the target variable are balanced, scaling of the numeric features and one hot encoding of the categorical features will be done. \n",
    "\n",
    "Scaling of numeric features is done so that the machine learning model has an easier time learning and abnormally large numeric values will not bias the model."
   ]
  },
  {
   "cell_type": "code",
   "execution_count": 26,
   "metadata": {},
   "outputs": [],
   "source": [
    "ct = ColumnTransformer([\n",
    "      ('scale', StandardScaler(),\n",
    "      make_column_selector(dtype_include=np.number)),\n",
    "      ('onehot', OneHotEncoder(),\n",
    "      make_column_selector(dtype_include=object))])"
   ]
  },
  {
   "cell_type": "code",
   "execution_count": 27,
   "metadata": {},
   "outputs": [
    {
     "data": {
      "text/html": [
       "<style>#sk-container-id-1 {color: black;background-color: white;}#sk-container-id-1 pre{padding: 0;}#sk-container-id-1 div.sk-toggleable {background-color: white;}#sk-container-id-1 label.sk-toggleable__label {cursor: pointer;display: block;width: 100%;margin-bottom: 0;padding: 0.3em;box-sizing: border-box;text-align: center;}#sk-container-id-1 label.sk-toggleable__label-arrow:before {content: \"▸\";float: left;margin-right: 0.25em;color: #696969;}#sk-container-id-1 label.sk-toggleable__label-arrow:hover:before {color: black;}#sk-container-id-1 div.sk-estimator:hover label.sk-toggleable__label-arrow:before {color: black;}#sk-container-id-1 div.sk-toggleable__content {max-height: 0;max-width: 0;overflow: hidden;text-align: left;background-color: #f0f8ff;}#sk-container-id-1 div.sk-toggleable__content pre {margin: 0.2em;color: black;border-radius: 0.25em;background-color: #f0f8ff;}#sk-container-id-1 input.sk-toggleable__control:checked~div.sk-toggleable__content {max-height: 200px;max-width: 100%;overflow: auto;}#sk-container-id-1 input.sk-toggleable__control:checked~label.sk-toggleable__label-arrow:before {content: \"▾\";}#sk-container-id-1 div.sk-estimator input.sk-toggleable__control:checked~label.sk-toggleable__label {background-color: #d4ebff;}#sk-container-id-1 div.sk-label input.sk-toggleable__control:checked~label.sk-toggleable__label {background-color: #d4ebff;}#sk-container-id-1 input.sk-hidden--visually {border: 0;clip: rect(1px 1px 1px 1px);clip: rect(1px, 1px, 1px, 1px);height: 1px;margin: -1px;overflow: hidden;padding: 0;position: absolute;width: 1px;}#sk-container-id-1 div.sk-estimator {font-family: monospace;background-color: #f0f8ff;border: 1px dotted black;border-radius: 0.25em;box-sizing: border-box;margin-bottom: 0.5em;}#sk-container-id-1 div.sk-estimator:hover {background-color: #d4ebff;}#sk-container-id-1 div.sk-parallel-item::after {content: \"\";width: 100%;border-bottom: 1px solid gray;flex-grow: 1;}#sk-container-id-1 div.sk-label:hover label.sk-toggleable__label {background-color: #d4ebff;}#sk-container-id-1 div.sk-serial::before {content: \"\";position: absolute;border-left: 1px solid gray;box-sizing: border-box;top: 0;bottom: 0;left: 50%;z-index: 0;}#sk-container-id-1 div.sk-serial {display: flex;flex-direction: column;align-items: center;background-color: white;padding-right: 0.2em;padding-left: 0.2em;position: relative;}#sk-container-id-1 div.sk-item {position: relative;z-index: 1;}#sk-container-id-1 div.sk-parallel {display: flex;align-items: stretch;justify-content: center;background-color: white;position: relative;}#sk-container-id-1 div.sk-item::before, #sk-container-id-1 div.sk-parallel-item::before {content: \"\";position: absolute;border-left: 1px solid gray;box-sizing: border-box;top: 0;bottom: 0;left: 50%;z-index: -1;}#sk-container-id-1 div.sk-parallel-item {display: flex;flex-direction: column;z-index: 1;position: relative;background-color: white;}#sk-container-id-1 div.sk-parallel-item:first-child::after {align-self: flex-end;width: 50%;}#sk-container-id-1 div.sk-parallel-item:last-child::after {align-self: flex-start;width: 50%;}#sk-container-id-1 div.sk-parallel-item:only-child::after {width: 0;}#sk-container-id-1 div.sk-dashed-wrapped {border: 1px dashed gray;margin: 0 0.4em 0.5em 0.4em;box-sizing: border-box;padding-bottom: 0.4em;background-color: white;}#sk-container-id-1 div.sk-label label {font-family: monospace;font-weight: bold;display: inline-block;line-height: 1.2em;}#sk-container-id-1 div.sk-label-container {text-align: center;}#sk-container-id-1 div.sk-container {/* jupyter's `normalize.less` sets `[hidden] { display: none; }` but bootstrap.min.css set `[hidden] { display: none !important; }` so we also need the `!important` here to be able to override the default hidden behavior on the sphinx rendered scikit-learn.org. See: https://github.com/scikit-learn/scikit-learn/issues/21755 */display: inline-block !important;position: relative;}#sk-container-id-1 div.sk-text-repr-fallback {display: none;}</style><div id=\"sk-container-id-1\" class=\"sk-top-container\"><div class=\"sk-text-repr-fallback\"><pre>ColumnTransformer(transformers=[(&#x27;scale&#x27;, StandardScaler(),\n",
       "                                 &lt;sklearn.compose._column_transformer.make_column_selector object at 0x0000023EE6915C70&gt;),\n",
       "                                (&#x27;onehot&#x27;, OneHotEncoder(),\n",
       "                                 &lt;sklearn.compose._column_transformer.make_column_selector object at 0x0000023EE6915D00&gt;)])</pre><b>In a Jupyter environment, please rerun this cell to show the HTML representation or trust the notebook. <br />On GitHub, the HTML representation is unable to render, please try loading this page with nbviewer.org.</b></div><div class=\"sk-container\" hidden><div class=\"sk-item sk-dashed-wrapped\"><div class=\"sk-label-container\"><div class=\"sk-label sk-toggleable\"><input class=\"sk-toggleable__control sk-hidden--visually\" id=\"sk-estimator-id-1\" type=\"checkbox\" ><label for=\"sk-estimator-id-1\" class=\"sk-toggleable__label sk-toggleable__label-arrow\">ColumnTransformer</label><div class=\"sk-toggleable__content\"><pre>ColumnTransformer(transformers=[(&#x27;scale&#x27;, StandardScaler(),\n",
       "                                 &lt;sklearn.compose._column_transformer.make_column_selector object at 0x0000023EE6915C70&gt;),\n",
       "                                (&#x27;onehot&#x27;, OneHotEncoder(),\n",
       "                                 &lt;sklearn.compose._column_transformer.make_column_selector object at 0x0000023EE6915D00&gt;)])</pre></div></div></div><div class=\"sk-parallel\"><div class=\"sk-parallel-item\"><div class=\"sk-item\"><div class=\"sk-label-container\"><div class=\"sk-label sk-toggleable\"><input class=\"sk-toggleable__control sk-hidden--visually\" id=\"sk-estimator-id-2\" type=\"checkbox\" ><label for=\"sk-estimator-id-2\" class=\"sk-toggleable__label sk-toggleable__label-arrow\">scale</label><div class=\"sk-toggleable__content\"><pre>&lt;sklearn.compose._column_transformer.make_column_selector object at 0x0000023EE6915C70&gt;</pre></div></div></div><div class=\"sk-serial\"><div class=\"sk-item\"><div class=\"sk-estimator sk-toggleable\"><input class=\"sk-toggleable__control sk-hidden--visually\" id=\"sk-estimator-id-3\" type=\"checkbox\" ><label for=\"sk-estimator-id-3\" class=\"sk-toggleable__label sk-toggleable__label-arrow\">StandardScaler</label><div class=\"sk-toggleable__content\"><pre>StandardScaler()</pre></div></div></div></div></div></div><div class=\"sk-parallel-item\"><div class=\"sk-item\"><div class=\"sk-label-container\"><div class=\"sk-label sk-toggleable\"><input class=\"sk-toggleable__control sk-hidden--visually\" id=\"sk-estimator-id-4\" type=\"checkbox\" ><label for=\"sk-estimator-id-4\" class=\"sk-toggleable__label sk-toggleable__label-arrow\">onehot</label><div class=\"sk-toggleable__content\"><pre>&lt;sklearn.compose._column_transformer.make_column_selector object at 0x0000023EE6915D00&gt;</pre></div></div></div><div class=\"sk-serial\"><div class=\"sk-item\"><div class=\"sk-estimator sk-toggleable\"><input class=\"sk-toggleable__control sk-hidden--visually\" id=\"sk-estimator-id-5\" type=\"checkbox\" ><label for=\"sk-estimator-id-5\" class=\"sk-toggleable__label sk-toggleable__label-arrow\">OneHotEncoder</label><div class=\"sk-toggleable__content\"><pre>OneHotEncoder()</pre></div></div></div></div></div></div></div></div></div></div>"
      ],
      "text/plain": [
       "ColumnTransformer(transformers=[('scale', StandardScaler(),\n",
       "                                 <sklearn.compose._column_transformer.make_column_selector object at 0x0000023EE6915C70>),\n",
       "                                ('onehot', OneHotEncoder(),\n",
       "                                 <sklearn.compose._column_transformer.make_column_selector object at 0x0000023EE6915D00>)])"
      ]
     },
     "execution_count": 27,
     "metadata": {},
     "output_type": "execute_result"
    }
   ],
   "source": [
    "ct.fit(X_train)"
   ]
  },
  {
   "cell_type": "code",
   "execution_count": 28,
   "metadata": {},
   "outputs": [],
   "source": [
    "X_ttrain = ct.transform(X_train)\n",
    "X_ttest = ct.transform(X_test)"
   ]
  },
  {
   "cell_type": "markdown",
   "metadata": {},
   "source": [
    "### Machine Learning Modelling and Testing"
   ]
  },
  {
   "cell_type": "markdown",
   "metadata": {},
   "source": [
    "For this project, 3 different classification models will be used, namely Logistic Regression, Random Forest Classifier and k-Nearest Neighbours (KNN)."
   ]
  },
  {
   "cell_type": "markdown",
   "metadata": {},
   "source": [
    "#### Logistic Regression"
   ]
  },
  {
   "cell_type": "markdown",
   "metadata": {},
   "source": [
    "Hyperparameter tuning will first be done using GridSearchCV. Subsequently, the best parameters for the estimator will be used in the final classifier model."
   ]
  },
  {
   "cell_type": "code",
   "execution_count": 29,
   "metadata": {},
   "outputs": [
    {
     "name": "stdout",
     "output_type": "stream",
     "text": [
      "Fitting 5 folds for each of 40 candidates, totalling 200 fits\n"
     ]
    },
    {
     "data": {
      "text/html": [
       "<style>#sk-container-id-2 {color: black;background-color: white;}#sk-container-id-2 pre{padding: 0;}#sk-container-id-2 div.sk-toggleable {background-color: white;}#sk-container-id-2 label.sk-toggleable__label {cursor: pointer;display: block;width: 100%;margin-bottom: 0;padding: 0.3em;box-sizing: border-box;text-align: center;}#sk-container-id-2 label.sk-toggleable__label-arrow:before {content: \"▸\";float: left;margin-right: 0.25em;color: #696969;}#sk-container-id-2 label.sk-toggleable__label-arrow:hover:before {color: black;}#sk-container-id-2 div.sk-estimator:hover label.sk-toggleable__label-arrow:before {color: black;}#sk-container-id-2 div.sk-toggleable__content {max-height: 0;max-width: 0;overflow: hidden;text-align: left;background-color: #f0f8ff;}#sk-container-id-2 div.sk-toggleable__content pre {margin: 0.2em;color: black;border-radius: 0.25em;background-color: #f0f8ff;}#sk-container-id-2 input.sk-toggleable__control:checked~div.sk-toggleable__content {max-height: 200px;max-width: 100%;overflow: auto;}#sk-container-id-2 input.sk-toggleable__control:checked~label.sk-toggleable__label-arrow:before {content: \"▾\";}#sk-container-id-2 div.sk-estimator input.sk-toggleable__control:checked~label.sk-toggleable__label {background-color: #d4ebff;}#sk-container-id-2 div.sk-label input.sk-toggleable__control:checked~label.sk-toggleable__label {background-color: #d4ebff;}#sk-container-id-2 input.sk-hidden--visually {border: 0;clip: rect(1px 1px 1px 1px);clip: rect(1px, 1px, 1px, 1px);height: 1px;margin: -1px;overflow: hidden;padding: 0;position: absolute;width: 1px;}#sk-container-id-2 div.sk-estimator {font-family: monospace;background-color: #f0f8ff;border: 1px dotted black;border-radius: 0.25em;box-sizing: border-box;margin-bottom: 0.5em;}#sk-container-id-2 div.sk-estimator:hover {background-color: #d4ebff;}#sk-container-id-2 div.sk-parallel-item::after {content: \"\";width: 100%;border-bottom: 1px solid gray;flex-grow: 1;}#sk-container-id-2 div.sk-label:hover label.sk-toggleable__label {background-color: #d4ebff;}#sk-container-id-2 div.sk-serial::before {content: \"\";position: absolute;border-left: 1px solid gray;box-sizing: border-box;top: 0;bottom: 0;left: 50%;z-index: 0;}#sk-container-id-2 div.sk-serial {display: flex;flex-direction: column;align-items: center;background-color: white;padding-right: 0.2em;padding-left: 0.2em;position: relative;}#sk-container-id-2 div.sk-item {position: relative;z-index: 1;}#sk-container-id-2 div.sk-parallel {display: flex;align-items: stretch;justify-content: center;background-color: white;position: relative;}#sk-container-id-2 div.sk-item::before, #sk-container-id-2 div.sk-parallel-item::before {content: \"\";position: absolute;border-left: 1px solid gray;box-sizing: border-box;top: 0;bottom: 0;left: 50%;z-index: -1;}#sk-container-id-2 div.sk-parallel-item {display: flex;flex-direction: column;z-index: 1;position: relative;background-color: white;}#sk-container-id-2 div.sk-parallel-item:first-child::after {align-self: flex-end;width: 50%;}#sk-container-id-2 div.sk-parallel-item:last-child::after {align-self: flex-start;width: 50%;}#sk-container-id-2 div.sk-parallel-item:only-child::after {width: 0;}#sk-container-id-2 div.sk-dashed-wrapped {border: 1px dashed gray;margin: 0 0.4em 0.5em 0.4em;box-sizing: border-box;padding-bottom: 0.4em;background-color: white;}#sk-container-id-2 div.sk-label label {font-family: monospace;font-weight: bold;display: inline-block;line-height: 1.2em;}#sk-container-id-2 div.sk-label-container {text-align: center;}#sk-container-id-2 div.sk-container {/* jupyter's `normalize.less` sets `[hidden] { display: none; }` but bootstrap.min.css set `[hidden] { display: none !important; }` so we also need the `!important` here to be able to override the default hidden behavior on the sphinx rendered scikit-learn.org. See: https://github.com/scikit-learn/scikit-learn/issues/21755 */display: inline-block !important;position: relative;}#sk-container-id-2 div.sk-text-repr-fallback {display: none;}</style><div id=\"sk-container-id-2\" class=\"sk-top-container\"><div class=\"sk-text-repr-fallback\"><pre>GridSearchCV(cv=5,\n",
       "             estimator=LogisticRegression(max_iter=1000, random_state=42,\n",
       "                                          solver=&#x27;saga&#x27;),\n",
       "             n_jobs=8,\n",
       "             param_grid={&#x27;C&#x27;: array([1.00000000e-05, 4.83293024e-05, 2.33572147e-04, 1.12883789e-03,\n",
       "       5.45559478e-03, 2.63665090e-02, 1.27427499e-01, 6.15848211e-01,\n",
       "       2.97635144e+00, 1.43844989e+01, 6.95192796e+01, 3.35981829e+02,\n",
       "       1.62377674e+03, 7.84759970e+03, 3.79269019e+04, 1.83298071e+05,\n",
       "       8.85866790e+05, 4.28133240e+06, 2.06913808e+07, 1.00000000e+08]),\n",
       "                         &#x27;penalty&#x27;: [&#x27;l1&#x27;, &#x27;l2&#x27;]},\n",
       "             scoring=&#x27;f1_weighted&#x27;, verbose=2)</pre><b>In a Jupyter environment, please rerun this cell to show the HTML representation or trust the notebook. <br />On GitHub, the HTML representation is unable to render, please try loading this page with nbviewer.org.</b></div><div class=\"sk-container\" hidden><div class=\"sk-item sk-dashed-wrapped\"><div class=\"sk-label-container\"><div class=\"sk-label sk-toggleable\"><input class=\"sk-toggleable__control sk-hidden--visually\" id=\"sk-estimator-id-6\" type=\"checkbox\" ><label for=\"sk-estimator-id-6\" class=\"sk-toggleable__label sk-toggleable__label-arrow\">GridSearchCV</label><div class=\"sk-toggleable__content\"><pre>GridSearchCV(cv=5,\n",
       "             estimator=LogisticRegression(max_iter=1000, random_state=42,\n",
       "                                          solver=&#x27;saga&#x27;),\n",
       "             n_jobs=8,\n",
       "             param_grid={&#x27;C&#x27;: array([1.00000000e-05, 4.83293024e-05, 2.33572147e-04, 1.12883789e-03,\n",
       "       5.45559478e-03, 2.63665090e-02, 1.27427499e-01, 6.15848211e-01,\n",
       "       2.97635144e+00, 1.43844989e+01, 6.95192796e+01, 3.35981829e+02,\n",
       "       1.62377674e+03, 7.84759970e+03, 3.79269019e+04, 1.83298071e+05,\n",
       "       8.85866790e+05, 4.28133240e+06, 2.06913808e+07, 1.00000000e+08]),\n",
       "                         &#x27;penalty&#x27;: [&#x27;l1&#x27;, &#x27;l2&#x27;]},\n",
       "             scoring=&#x27;f1_weighted&#x27;, verbose=2)</pre></div></div></div><div class=\"sk-parallel\"><div class=\"sk-parallel-item\"><div class=\"sk-item\"><div class=\"sk-label-container\"><div class=\"sk-label sk-toggleable\"><input class=\"sk-toggleable__control sk-hidden--visually\" id=\"sk-estimator-id-7\" type=\"checkbox\" ><label for=\"sk-estimator-id-7\" class=\"sk-toggleable__label sk-toggleable__label-arrow\">estimator: LogisticRegression</label><div class=\"sk-toggleable__content\"><pre>LogisticRegression(max_iter=1000, random_state=42, solver=&#x27;saga&#x27;)</pre></div></div></div><div class=\"sk-serial\"><div class=\"sk-item\"><div class=\"sk-estimator sk-toggleable\"><input class=\"sk-toggleable__control sk-hidden--visually\" id=\"sk-estimator-id-8\" type=\"checkbox\" ><label for=\"sk-estimator-id-8\" class=\"sk-toggleable__label sk-toggleable__label-arrow\">LogisticRegression</label><div class=\"sk-toggleable__content\"><pre>LogisticRegression(max_iter=1000, random_state=42, solver=&#x27;saga&#x27;)</pre></div></div></div></div></div></div></div></div></div></div>"
      ],
      "text/plain": [
       "GridSearchCV(cv=5,\n",
       "             estimator=LogisticRegression(max_iter=1000, random_state=42,\n",
       "                                          solver='saga'),\n",
       "             n_jobs=8,\n",
       "             param_grid={'C': array([1.00000000e-05, 4.83293024e-05, 2.33572147e-04, 1.12883789e-03,\n",
       "       5.45559478e-03, 2.63665090e-02, 1.27427499e-01, 6.15848211e-01,\n",
       "       2.97635144e+00, 1.43844989e+01, 6.95192796e+01, 3.35981829e+02,\n",
       "       1.62377674e+03, 7.84759970e+03, 3.79269019e+04, 1.83298071e+05,\n",
       "       8.85866790e+05, 4.28133240e+06, 2.06913808e+07, 1.00000000e+08]),\n",
       "                         'penalty': ['l1', 'l2']},\n",
       "             scoring='f1_weighted', verbose=2)"
      ]
     },
     "execution_count": 29,
     "metadata": {},
     "output_type": "execute_result"
    }
   ],
   "source": [
    "param_grid = {\n",
    "    'penalty': ['l1','l2'],\n",
    "    'C': np.logspace(-5, 8, 20),\n",
    "}\n",
    "# Create a based model\n",
    "logreg = LogisticRegression(max_iter = 1000, random_state = 42,solver='saga')\n",
    "# Instantiate the grid search model\n",
    "logreg_gs = GridSearchCV(estimator = logreg, param_grid = param_grid, scoring = 'f1_weighted', \n",
    "                        cv = 5, n_jobs = 8, verbose = 2)\n",
    "logreg_gs.fit(X_ttrain, y_train)"
   ]
  },
  {
   "cell_type": "code",
   "execution_count": 30,
   "metadata": {},
   "outputs": [
    {
     "data": {
      "text/plain": [
       "{'C': 0.12742749857031346, 'penalty': 'l1'}"
      ]
     },
     "execution_count": 30,
     "metadata": {},
     "output_type": "execute_result"
    }
   ],
   "source": [
    "logreg_gs.best_params_"
   ]
  },
  {
   "cell_type": "markdown",
   "metadata": {},
   "source": [
    "These hyperparameters will be used in the final model"
   ]
  },
  {
   "cell_type": "code",
   "execution_count": 31,
   "metadata": {},
   "outputs": [
    {
     "data": {
      "text/html": [
       "<style>#sk-container-id-3 {color: black;background-color: white;}#sk-container-id-3 pre{padding: 0;}#sk-container-id-3 div.sk-toggleable {background-color: white;}#sk-container-id-3 label.sk-toggleable__label {cursor: pointer;display: block;width: 100%;margin-bottom: 0;padding: 0.3em;box-sizing: border-box;text-align: center;}#sk-container-id-3 label.sk-toggleable__label-arrow:before {content: \"▸\";float: left;margin-right: 0.25em;color: #696969;}#sk-container-id-3 label.sk-toggleable__label-arrow:hover:before {color: black;}#sk-container-id-3 div.sk-estimator:hover label.sk-toggleable__label-arrow:before {color: black;}#sk-container-id-3 div.sk-toggleable__content {max-height: 0;max-width: 0;overflow: hidden;text-align: left;background-color: #f0f8ff;}#sk-container-id-3 div.sk-toggleable__content pre {margin: 0.2em;color: black;border-radius: 0.25em;background-color: #f0f8ff;}#sk-container-id-3 input.sk-toggleable__control:checked~div.sk-toggleable__content {max-height: 200px;max-width: 100%;overflow: auto;}#sk-container-id-3 input.sk-toggleable__control:checked~label.sk-toggleable__label-arrow:before {content: \"▾\";}#sk-container-id-3 div.sk-estimator input.sk-toggleable__control:checked~label.sk-toggleable__label {background-color: #d4ebff;}#sk-container-id-3 div.sk-label input.sk-toggleable__control:checked~label.sk-toggleable__label {background-color: #d4ebff;}#sk-container-id-3 input.sk-hidden--visually {border: 0;clip: rect(1px 1px 1px 1px);clip: rect(1px, 1px, 1px, 1px);height: 1px;margin: -1px;overflow: hidden;padding: 0;position: absolute;width: 1px;}#sk-container-id-3 div.sk-estimator {font-family: monospace;background-color: #f0f8ff;border: 1px dotted black;border-radius: 0.25em;box-sizing: border-box;margin-bottom: 0.5em;}#sk-container-id-3 div.sk-estimator:hover {background-color: #d4ebff;}#sk-container-id-3 div.sk-parallel-item::after {content: \"\";width: 100%;border-bottom: 1px solid gray;flex-grow: 1;}#sk-container-id-3 div.sk-label:hover label.sk-toggleable__label {background-color: #d4ebff;}#sk-container-id-3 div.sk-serial::before {content: \"\";position: absolute;border-left: 1px solid gray;box-sizing: border-box;top: 0;bottom: 0;left: 50%;z-index: 0;}#sk-container-id-3 div.sk-serial {display: flex;flex-direction: column;align-items: center;background-color: white;padding-right: 0.2em;padding-left: 0.2em;position: relative;}#sk-container-id-3 div.sk-item {position: relative;z-index: 1;}#sk-container-id-3 div.sk-parallel {display: flex;align-items: stretch;justify-content: center;background-color: white;position: relative;}#sk-container-id-3 div.sk-item::before, #sk-container-id-3 div.sk-parallel-item::before {content: \"\";position: absolute;border-left: 1px solid gray;box-sizing: border-box;top: 0;bottom: 0;left: 50%;z-index: -1;}#sk-container-id-3 div.sk-parallel-item {display: flex;flex-direction: column;z-index: 1;position: relative;background-color: white;}#sk-container-id-3 div.sk-parallel-item:first-child::after {align-self: flex-end;width: 50%;}#sk-container-id-3 div.sk-parallel-item:last-child::after {align-self: flex-start;width: 50%;}#sk-container-id-3 div.sk-parallel-item:only-child::after {width: 0;}#sk-container-id-3 div.sk-dashed-wrapped {border: 1px dashed gray;margin: 0 0.4em 0.5em 0.4em;box-sizing: border-box;padding-bottom: 0.4em;background-color: white;}#sk-container-id-3 div.sk-label label {font-family: monospace;font-weight: bold;display: inline-block;line-height: 1.2em;}#sk-container-id-3 div.sk-label-container {text-align: center;}#sk-container-id-3 div.sk-container {/* jupyter's `normalize.less` sets `[hidden] { display: none; }` but bootstrap.min.css set `[hidden] { display: none !important; }` so we also need the `!important` here to be able to override the default hidden behavior on the sphinx rendered scikit-learn.org. See: https://github.com/scikit-learn/scikit-learn/issues/21755 */display: inline-block !important;position: relative;}#sk-container-id-3 div.sk-text-repr-fallback {display: none;}</style><div id=\"sk-container-id-3\" class=\"sk-top-container\"><div class=\"sk-text-repr-fallback\"><pre>LogisticRegression(C=0.1274, max_iter=1000, penalty=&#x27;l1&#x27;, random_state=42,\n",
       "                   solver=&#x27;saga&#x27;)</pre><b>In a Jupyter environment, please rerun this cell to show the HTML representation or trust the notebook. <br />On GitHub, the HTML representation is unable to render, please try loading this page with nbviewer.org.</b></div><div class=\"sk-container\" hidden><div class=\"sk-item\"><div class=\"sk-estimator sk-toggleable\"><input class=\"sk-toggleable__control sk-hidden--visually\" id=\"sk-estimator-id-9\" type=\"checkbox\" checked><label for=\"sk-estimator-id-9\" class=\"sk-toggleable__label sk-toggleable__label-arrow\">LogisticRegression</label><div class=\"sk-toggleable__content\"><pre>LogisticRegression(C=0.1274, max_iter=1000, penalty=&#x27;l1&#x27;, random_state=42,\n",
       "                   solver=&#x27;saga&#x27;)</pre></div></div></div></div></div>"
      ],
      "text/plain": [
       "LogisticRegression(C=0.1274, max_iter=1000, penalty='l1', random_state=42,\n",
       "                   solver='saga')"
      ]
     },
     "execution_count": 31,
     "metadata": {},
     "output_type": "execute_result"
    }
   ],
   "source": [
    "logreg = LogisticRegression(C=0.1274,penalty='l1',solver='saga',random_state=42,max_iter=1000)\n",
    "logreg.fit(X_ttrain, y_train)"
   ]
  },
  {
   "cell_type": "code",
   "execution_count": 32,
   "metadata": {},
   "outputs": [],
   "source": [
    "y_train_pred = logreg.predict(X_ttrain)"
   ]
  },
  {
   "cell_type": "code",
   "execution_count": 33,
   "metadata": {},
   "outputs": [
    {
     "data": {
      "image/png": "[encoded data removed]",
      "text/plain": [
       "<Figure size 432x288 with 2 Axes>"
      ]
     },
     "metadata": {
      "needs_background": "light"
     },
     "output_type": "display_data"
    }
   ],
   "source": [
    "y_test_pred = logreg.predict(X_ttest)\n",
    "ConfusionMatrixDisplay(confusion_matrix(y_test, y_test_pred), display_labels=logreg.classes_).plot();\n"
   ]
  },
  {
   "cell_type": "code",
   "execution_count": 34,
   "metadata": {},
   "outputs": [
    {
     "name": "stdout",
     "output_type": "stream",
     "text": [
      "              precision    recall  f1-score   support\n",
      "\n",
      "        C211       0.97      0.89      0.93      2795\n",
      "        C321       0.58      0.56      0.57       714\n",
      "        C431       0.51      0.83      0.63       324\n",
      "        C432       0.56      0.85      0.68       102\n",
      "        C543       0.86      0.88      0.87        65\n",
      "\n",
      "    accuracy                           0.82      4000\n",
      "   macro avg       0.70      0.80      0.74      4000\n",
      "weighted avg       0.85      0.82      0.83      4000\n",
      "\n"
     ]
    }
   ],
   "source": [
    "print(classification_report(y_test, y_test_pred))"
   ]
  },
  {
   "cell_type": "markdown",
   "metadata": {},
   "source": [
    "The f1-score for all the classes are moderately ok.\n",
    "\n",
    "Logistic Regression seems to not be able to tackle this problem as effectively."
   ]
  },
  {
   "cell_type": "markdown",
   "metadata": {},
   "source": [
    "#### Random Forest"
   ]
  },
  {
   "cell_type": "markdown",
   "metadata": {},
   "source": [
    "Hyperparameter tuning will first be done using GridSearchCV. Subsequently, the best parameters for the estimator will be used in the final classifier model."
   ]
  },
  {
   "cell_type": "code",
   "execution_count": 35,
   "metadata": {},
   "outputs": [
    {
     "name": "stdout",
     "output_type": "stream",
     "text": [
      "Fitting 5 folds for each of 216 candidates, totalling 1080 fits\n"
     ]
    },
    {
     "data": {
      "text/html": [
       "<style>#sk-container-id-4 {color: black;background-color: white;}#sk-container-id-4 pre{padding: 0;}#sk-container-id-4 div.sk-toggleable {background-color: white;}#sk-container-id-4 label.sk-toggleable__label {cursor: pointer;display: block;width: 100%;margin-bottom: 0;padding: 0.3em;box-sizing: border-box;text-align: center;}#sk-container-id-4 label.sk-toggleable__label-arrow:before {content: \"▸\";float: left;margin-right: 0.25em;color: #696969;}#sk-container-id-4 label.sk-toggleable__label-arrow:hover:before {color: black;}#sk-container-id-4 div.sk-estimator:hover label.sk-toggleable__label-arrow:before {color: black;}#sk-container-id-4 div.sk-toggleable__content {max-height: 0;max-width: 0;overflow: hidden;text-align: left;background-color: #f0f8ff;}#sk-container-id-4 div.sk-toggleable__content pre {margin: 0.2em;color: black;border-radius: 0.25em;background-color: #f0f8ff;}#sk-container-id-4 input.sk-toggleable__control:checked~div.sk-toggleable__content {max-height: 200px;max-width: 100%;overflow: auto;}#sk-container-id-4 input.sk-toggleable__control:checked~label.sk-toggleable__label-arrow:before {content: \"▾\";}#sk-container-id-4 div.sk-estimator input.sk-toggleable__control:checked~label.sk-toggleable__label {background-color: #d4ebff;}#sk-container-id-4 div.sk-label input.sk-toggleable__control:checked~label.sk-toggleable__label {background-color: #d4ebff;}#sk-container-id-4 input.sk-hidden--visually {border: 0;clip: rect(1px 1px 1px 1px);clip: rect(1px, 1px, 1px, 1px);height: 1px;margin: -1px;overflow: hidden;padding: 0;position: absolute;width: 1px;}#sk-container-id-4 div.sk-estimator {font-family: monospace;background-color: #f0f8ff;border: 1px dotted black;border-radius: 0.25em;box-sizing: border-box;margin-bottom: 0.5em;}#sk-container-id-4 div.sk-estimator:hover {background-color: #d4ebff;}#sk-container-id-4 div.sk-parallel-item::after {content: \"\";width: 100%;border-bottom: 1px solid gray;flex-grow: 1;}#sk-container-id-4 div.sk-label:hover label.sk-toggleable__label {background-color: #d4ebff;}#sk-container-id-4 div.sk-serial::before {content: \"\";position: absolute;border-left: 1px solid gray;box-sizing: border-box;top: 0;bottom: 0;left: 50%;z-index: 0;}#sk-container-id-4 div.sk-serial {display: flex;flex-direction: column;align-items: center;background-color: white;padding-right: 0.2em;padding-left: 0.2em;position: relative;}#sk-container-id-4 div.sk-item {position: relative;z-index: 1;}#sk-container-id-4 div.sk-parallel {display: flex;align-items: stretch;justify-content: center;background-color: white;position: relative;}#sk-container-id-4 div.sk-item::before, #sk-container-id-4 div.sk-parallel-item::before {content: \"\";position: absolute;border-left: 1px solid gray;box-sizing: border-box;top: 0;bottom: 0;left: 50%;z-index: -1;}#sk-container-id-4 div.sk-parallel-item {display: flex;flex-direction: column;z-index: 1;position: relative;background-color: white;}#sk-container-id-4 div.sk-parallel-item:first-child::after {align-self: flex-end;width: 50%;}#sk-container-id-4 div.sk-parallel-item:last-child::after {align-self: flex-start;width: 50%;}#sk-container-id-4 div.sk-parallel-item:only-child::after {width: 0;}#sk-container-id-4 div.sk-dashed-wrapped {border: 1px dashed gray;margin: 0 0.4em 0.5em 0.4em;box-sizing: border-box;padding-bottom: 0.4em;background-color: white;}#sk-container-id-4 div.sk-label label {font-family: monospace;font-weight: bold;display: inline-block;line-height: 1.2em;}#sk-container-id-4 div.sk-label-container {text-align: center;}#sk-container-id-4 div.sk-container {/* jupyter's `normalize.less` sets `[hidden] { display: none; }` but bootstrap.min.css set `[hidden] { display: none !important; }` so we also need the `!important` here to be able to override the default hidden behavior on the sphinx rendered scikit-learn.org. See: https://github.com/scikit-learn/scikit-learn/issues/21755 */display: inline-block !important;position: relative;}#sk-container-id-4 div.sk-text-repr-fallback {display: none;}</style><div id=\"sk-container-id-4\" class=\"sk-top-container\"><div class=\"sk-text-repr-fallback\"><pre>GridSearchCV(cv=5, estimator=RandomForestClassifier(random_state=42), n_jobs=8,\n",
       "             param_grid={&#x27;criterion&#x27;: [&#x27;gini&#x27;, &#x27;entropy&#x27;],\n",
       "                         &#x27;max_depth&#x27;: [10, 100, None],\n",
       "                         &#x27;max_features&#x27;: [&#x27;sqrt&#x27;, &#x27;log2&#x27;, None],\n",
       "                         &#x27;min_samples_leaf&#x27;: [1, 2],\n",
       "                         &#x27;min_samples_split&#x27;: [2, 5, 8],\n",
       "                         &#x27;n_estimators&#x27;: [10, 100]},\n",
       "             scoring=&#x27;f1_weighted&#x27;, verbose=2)</pre><b>In a Jupyter environment, please rerun this cell to show the HTML representation or trust the notebook. <br />On GitHub, the HTML representation is unable to render, please try loading this page with nbviewer.org.</b></div><div class=\"sk-container\" hidden><div class=\"sk-item sk-dashed-wrapped\"><div class=\"sk-label-container\"><div class=\"sk-label sk-toggleable\"><input class=\"sk-toggleable__control sk-hidden--visually\" id=\"sk-estimator-id-10\" type=\"checkbox\" ><label for=\"sk-estimator-id-10\" class=\"sk-toggleable__label sk-toggleable__label-arrow\">GridSearchCV</label><div class=\"sk-toggleable__content\"><pre>GridSearchCV(cv=5, estimator=RandomForestClassifier(random_state=42), n_jobs=8,\n",
       "             param_grid={&#x27;criterion&#x27;: [&#x27;gini&#x27;, &#x27;entropy&#x27;],\n",
       "                         &#x27;max_depth&#x27;: [10, 100, None],\n",
       "                         &#x27;max_features&#x27;: [&#x27;sqrt&#x27;, &#x27;log2&#x27;, None],\n",
       "                         &#x27;min_samples_leaf&#x27;: [1, 2],\n",
       "                         &#x27;min_samples_split&#x27;: [2, 5, 8],\n",
       "                         &#x27;n_estimators&#x27;: [10, 100]},\n",
       "             scoring=&#x27;f1_weighted&#x27;, verbose=2)</pre></div></div></div><div class=\"sk-parallel\"><div class=\"sk-parallel-item\"><div class=\"sk-item\"><div class=\"sk-label-container\"><div class=\"sk-label sk-toggleable\"><input class=\"sk-toggleable__control sk-hidden--visually\" id=\"sk-estimator-id-11\" type=\"checkbox\" ><label for=\"sk-estimator-id-11\" class=\"sk-toggleable__label sk-toggleable__label-arrow\">estimator: RandomForestClassifier</label><div class=\"sk-toggleable__content\"><pre>RandomForestClassifier(random_state=42)</pre></div></div></div><div class=\"sk-serial\"><div class=\"sk-item\"><div class=\"sk-estimator sk-toggleable\"><input class=\"sk-toggleable__control sk-hidden--visually\" id=\"sk-estimator-id-12\" type=\"checkbox\" ><label for=\"sk-estimator-id-12\" class=\"sk-toggleable__label sk-toggleable__label-arrow\">RandomForestClassifier</label><div class=\"sk-toggleable__content\"><pre>RandomForestClassifier(random_state=42)</pre></div></div></div></div></div></div></div></div></div></div>"
      ],
      "text/plain": [
       "GridSearchCV(cv=5, estimator=RandomForestClassifier(random_state=42), n_jobs=8,\n",
       "             param_grid={'criterion': ['gini', 'entropy'],\n",
       "                         'max_depth': [10, 100, None],\n",
       "                         'max_features': ['sqrt', 'log2', None],\n",
       "                         'min_samples_leaf': [1, 2],\n",
       "                         'min_samples_split': [2, 5, 8],\n",
       "                         'n_estimators': [10, 100]},\n",
       "             scoring='f1_weighted', verbose=2)"
      ]
     },
     "execution_count": 35,
     "metadata": {},
     "output_type": "execute_result"
    }
   ],
   "source": [
    "param_grid = {\n",
    "    'max_depth': [10,100,None],\n",
    "    'max_features': ['sqrt','log2',None],\n",
    "    'min_samples_leaf': [1, 2],\n",
    "    'min_samples_split': [2, 5, 8],\n",
    "    'n_estimators': [10, 100],\n",
    "    'criterion' : ['gini', 'entropy']\n",
    "}\n",
    "# Create a based model\n",
    "rf = RandomForestClassifier(random_state=42)\n",
    "# Instantiate the grid search model\n",
    "rfc_gs = GridSearchCV(estimator = rf, param_grid = param_grid, scoring = 'f1_weighted', \n",
    "                        cv = 5, n_jobs = 8, verbose = 2)\n",
    "rfc_gs.fit(X_ttrain, y_train)"
   ]
  },
  {
   "cell_type": "code",
   "execution_count": 36,
   "metadata": {},
   "outputs": [
    {
     "data": {
      "text/plain": [
       "{'criterion': 'entropy',\n",
       " 'max_depth': 100,\n",
       " 'max_features': 'sqrt',\n",
       " 'min_samples_leaf': 1,\n",
       " 'min_samples_split': 2,\n",
       " 'n_estimators': 100}"
      ]
     },
     "execution_count": 36,
     "metadata": {},
     "output_type": "execute_result"
    }
   ],
   "source": [
    "rfc_gs.best_params_"
   ]
  },
  {
   "cell_type": "markdown",
   "metadata": {},
   "source": [
    "These hyperparameters will be used in the final model"
   ]
  },
  {
   "cell_type": "code",
   "execution_count": 37,
   "metadata": {},
   "outputs": [
    {
     "data": {
      "text/html": [
       "<style>#sk-container-id-5 {color: black;background-color: white;}#sk-container-id-5 pre{padding: 0;}#sk-container-id-5 div.sk-toggleable {background-color: white;}#sk-container-id-5 label.sk-toggleable__label {cursor: pointer;display: block;width: 100%;margin-bottom: 0;padding: 0.3em;box-sizing: border-box;text-align: center;}#sk-container-id-5 label.sk-toggleable__label-arrow:before {content: \"▸\";float: left;margin-right: 0.25em;color: #696969;}#sk-container-id-5 label.sk-toggleable__label-arrow:hover:before {color: black;}#sk-container-id-5 div.sk-estimator:hover label.sk-toggleable__label-arrow:before {color: black;}#sk-container-id-5 div.sk-toggleable__content {max-height: 0;max-width: 0;overflow: hidden;text-align: left;background-color: #f0f8ff;}#sk-container-id-5 div.sk-toggleable__content pre {margin: 0.2em;color: black;border-radius: 0.25em;background-color: #f0f8ff;}#sk-container-id-5 input.sk-toggleable__control:checked~div.sk-toggleable__content {max-height: 200px;max-width: 100%;overflow: auto;}#sk-container-id-5 input.sk-toggleable__control:checked~label.sk-toggleable__label-arrow:before {content: \"▾\";}#sk-container-id-5 div.sk-estimator input.sk-toggleable__control:checked~label.sk-toggleable__label {background-color: #d4ebff;}#sk-container-id-5 div.sk-label input.sk-toggleable__control:checked~label.sk-toggleable__label {background-color: #d4ebff;}#sk-container-id-5 input.sk-hidden--visually {border: 0;clip: rect(1px 1px 1px 1px);clip: rect(1px, 1px, 1px, 1px);height: 1px;margin: -1px;overflow: hidden;padding: 0;position: absolute;width: 1px;}#sk-container-id-5 div.sk-estimator {font-family: monospace;background-color: #f0f8ff;border: 1px dotted black;border-radius: 0.25em;box-sizing: border-box;margin-bottom: 0.5em;}#sk-container-id-5 div.sk-estimator:hover {background-color: #d4ebff;}#sk-container-id-5 div.sk-parallel-item::after {content: \"\";width: 100%;border-bottom: 1px solid gray;flex-grow: 1;}#sk-container-id-5 div.sk-label:hover label.sk-toggleable__label {background-color: #d4ebff;}#sk-container-id-5 div.sk-serial::before {content: \"\";position: absolute;border-left: 1px solid gray;box-sizing: border-box;top: 0;bottom: 0;left: 50%;z-index: 0;}#sk-container-id-5 div.sk-serial {display: flex;flex-direction: column;align-items: center;background-color: white;padding-right: 0.2em;padding-left: 0.2em;position: relative;}#sk-container-id-5 div.sk-item {position: relative;z-index: 1;}#sk-container-id-5 div.sk-parallel {display: flex;align-items: stretch;justify-content: center;background-color: white;position: relative;}#sk-container-id-5 div.sk-item::before, #sk-container-id-5 div.sk-parallel-item::before {content: \"\";position: absolute;border-left: 1px solid gray;box-sizing: border-box;top: 0;bottom: 0;left: 50%;z-index: -1;}#sk-container-id-5 div.sk-parallel-item {display: flex;flex-direction: column;z-index: 1;position: relative;background-color: white;}#sk-container-id-5 div.sk-parallel-item:first-child::after {align-self: flex-end;width: 50%;}#sk-container-id-5 div.sk-parallel-item:last-child::after {align-self: flex-start;width: 50%;}#sk-container-id-5 div.sk-parallel-item:only-child::after {width: 0;}#sk-container-id-5 div.sk-dashed-wrapped {border: 1px dashed gray;margin: 0 0.4em 0.5em 0.4em;box-sizing: border-box;padding-bottom: 0.4em;background-color: white;}#sk-container-id-5 div.sk-label label {font-family: monospace;font-weight: bold;display: inline-block;line-height: 1.2em;}#sk-container-id-5 div.sk-label-container {text-align: center;}#sk-container-id-5 div.sk-container {/* jupyter's `normalize.less` sets `[hidden] { display: none; }` but bootstrap.min.css set `[hidden] { display: none !important; }` so we also need the `!important` here to be able to override the default hidden behavior on the sphinx rendered scikit-learn.org. See: https://github.com/scikit-learn/scikit-learn/issues/21755 */display: inline-block !important;position: relative;}#sk-container-id-5 div.sk-text-repr-fallback {display: none;}</style><div id=\"sk-container-id-5\" class=\"sk-top-container\"><div class=\"sk-text-repr-fallback\"><pre>RandomForestClassifier(criterion=&#x27;entropy&#x27;, max_depth=100, random_state=42)</pre><b>In a Jupyter environment, please rerun this cell to show the HTML representation or trust the notebook. <br />On GitHub, the HTML representation is unable to render, please try loading this page with nbviewer.org.</b></div><div class=\"sk-container\" hidden><div class=\"sk-item\"><div class=\"sk-estimator sk-toggleable\"><input class=\"sk-toggleable__control sk-hidden--visually\" id=\"sk-estimator-id-13\" type=\"checkbox\" checked><label for=\"sk-estimator-id-13\" class=\"sk-toggleable__label sk-toggleable__label-arrow\">RandomForestClassifier</label><div class=\"sk-toggleable__content\"><pre>RandomForestClassifier(criterion=&#x27;entropy&#x27;, max_depth=100, random_state=42)</pre></div></div></div></div></div>"
      ],
      "text/plain": [
       "RandomForestClassifier(criterion='entropy', max_depth=100, random_state=42)"
      ]
     },
     "execution_count": 37,
     "metadata": {},
     "output_type": "execute_result"
    }
   ],
   "source": [
    "rfc = RandomForestClassifier(n_estimators=100, criterion='entropy', max_depth=100, min_samples_split=2, min_samples_leaf=1,random_state=42)\n",
    "rfc.fit(X_ttrain, y_train)"
   ]
  },
  {
   "cell_type": "code",
   "execution_count": 38,
   "metadata": {},
   "outputs": [
    {
     "name": "stdout",
     "output_type": "stream",
     "text": [
      "Wall time: 61 ms\n"
     ]
    }
   ],
   "source": [
    "%time y_train_pred = rfc.predict(X_ttrain)"
   ]
  },
  {
   "cell_type": "markdown",
   "metadata": {},
   "source": [
    "Recommendation of the carton only takes 0.046s for the combined model."
   ]
  },
  {
   "cell_type": "code",
   "execution_count": 39,
   "metadata": {},
   "outputs": [
    {
     "data": {
      "image/png": "[encoded data removed]",
      "text/plain": [
       "<Figure size 432x288 with 2 Axes>"
      ]
     },
     "metadata": {
      "needs_background": "light"
     },
     "output_type": "display_data"
    }
   ],
   "source": [
    "y_test_pred = rfc.predict(X_ttest)\n",
    "ConfusionMatrixDisplay(confusion_matrix(y_test, y_test_pred), display_labels=rfc.classes_).plot();\n"
   ]
  },
  {
   "cell_type": "code",
   "execution_count": 40,
   "metadata": {},
   "outputs": [
    {
     "name": "stdout",
     "output_type": "stream",
     "text": [
      "              precision    recall  f1-score   support\n",
      "\n",
      "        C211       0.99      0.99      0.99      2795\n",
      "        C321       0.93      0.94      0.94       714\n",
      "        C431       0.95      0.89      0.92       324\n",
      "        C432       0.67      0.91      0.77       102\n",
      "        C543       0.92      0.88      0.90        65\n",
      "\n",
      "    accuracy                           0.97      4000\n",
      "   macro avg       0.89      0.92      0.90      4000\n",
      "weighted avg       0.97      0.97      0.97      4000\n",
      "\n"
     ]
    }
   ],
   "source": [
    "print(classification_report(y_test, y_test_pred))"
   ]
  },
  {
   "cell_type": "markdown",
   "metadata": {},
   "source": [
    "The f1-score for all the classes are good.\n",
    "\n",
    "The Random Forest Classifier seems to be able to tackle this problem of carton recommendation quite well. Thus, this model will be used for tackling the carton recommendation problem."
   ]
  },
  {
   "cell_type": "markdown",
   "metadata": {},
   "source": [
    "#### KNN"
   ]
  },
  {
   "cell_type": "markdown",
   "metadata": {},
   "source": [
    "Hyperparameter tuning will first be done using GridSearchCV. Subsequently, the best parameters for the estimator will be used in the final classifier model."
   ]
  },
  {
   "cell_type": "code",
   "execution_count": 41,
   "metadata": {},
   "outputs": [
    {
     "data": {
      "text/html": [
       "<style>#sk-container-id-6 {color: black;background-color: white;}#sk-container-id-6 pre{padding: 0;}#sk-container-id-6 div.sk-toggleable {background-color: white;}#sk-container-id-6 label.sk-toggleable__label {cursor: pointer;display: block;width: 100%;margin-bottom: 0;padding: 0.3em;box-sizing: border-box;text-align: center;}#sk-container-id-6 label.sk-toggleable__label-arrow:before {content: \"▸\";float: left;margin-right: 0.25em;color: #696969;}#sk-container-id-6 label.sk-toggleable__label-arrow:hover:before {color: black;}#sk-container-id-6 div.sk-estimator:hover label.sk-toggleable__label-arrow:before {color: black;}#sk-container-id-6 div.sk-toggleable__content {max-height: 0;max-width: 0;overflow: hidden;text-align: left;background-color: #f0f8ff;}#sk-container-id-6 div.sk-toggleable__content pre {margin: 0.2em;color: black;border-radius: 0.25em;background-color: #f0f8ff;}#sk-container-id-6 input.sk-toggleable__control:checked~div.sk-toggleable__content {max-height: 200px;max-width: 100%;overflow: auto;}#sk-container-id-6 input.sk-toggleable__control:checked~label.sk-toggleable__label-arrow:before {content: \"▾\";}#sk-container-id-6 div.sk-estimator input.sk-toggleable__control:checked~label.sk-toggleable__label {background-color: #d4ebff;}#sk-container-id-6 div.sk-label input.sk-toggleable__control:checked~label.sk-toggleable__label {background-color: #d4ebff;}#sk-container-id-6 input.sk-hidden--visually {border: 0;clip: rect(1px 1px 1px 1px);clip: rect(1px, 1px, 1px, 1px);height: 1px;margin: -1px;overflow: hidden;padding: 0;position: absolute;width: 1px;}#sk-container-id-6 div.sk-estimator {font-family: monospace;background-color: #f0f8ff;border: 1px dotted black;border-radius: 0.25em;box-sizing: border-box;margin-bottom: 0.5em;}#sk-container-id-6 div.sk-estimator:hover {background-color: #d4ebff;}#sk-container-id-6 div.sk-parallel-item::after {content: \"\";width: 100%;border-bottom: 1px solid gray;flex-grow: 1;}#sk-container-id-6 div.sk-label:hover label.sk-toggleable__label {background-color: #d4ebff;}#sk-container-id-6 div.sk-serial::before {content: \"\";position: absolute;border-left: 1px solid gray;box-sizing: border-box;top: 0;bottom: 0;left: 50%;z-index: 0;}#sk-container-id-6 div.sk-serial {display: flex;flex-direction: column;align-items: center;background-color: white;padding-right: 0.2em;padding-left: 0.2em;position: relative;}#sk-container-id-6 div.sk-item {position: relative;z-index: 1;}#sk-container-id-6 div.sk-parallel {display: flex;align-items: stretch;justify-content: center;background-color: white;position: relative;}#sk-container-id-6 div.sk-item::before, #sk-container-id-6 div.sk-parallel-item::before {content: \"\";position: absolute;border-left: 1px solid gray;box-sizing: border-box;top: 0;bottom: 0;left: 50%;z-index: -1;}#sk-container-id-6 div.sk-parallel-item {display: flex;flex-direction: column;z-index: 1;position: relative;background-color: white;}#sk-container-id-6 div.sk-parallel-item:first-child::after {align-self: flex-end;width: 50%;}#sk-container-id-6 div.sk-parallel-item:last-child::after {align-self: flex-start;width: 50%;}#sk-container-id-6 div.sk-parallel-item:only-child::after {width: 0;}#sk-container-id-6 div.sk-dashed-wrapped {border: 1px dashed gray;margin: 0 0.4em 0.5em 0.4em;box-sizing: border-box;padding-bottom: 0.4em;background-color: white;}#sk-container-id-6 div.sk-label label {font-family: monospace;font-weight: bold;display: inline-block;line-height: 1.2em;}#sk-container-id-6 div.sk-label-container {text-align: center;}#sk-container-id-6 div.sk-container {/* jupyter's `normalize.less` sets `[hidden] { display: none; }` but bootstrap.min.css set `[hidden] { display: none !important; }` so we also need the `!important` here to be able to override the default hidden behavior on the sphinx rendered scikit-learn.org. See: https://github.com/scikit-learn/scikit-learn/issues/21755 */display: inline-block !important;position: relative;}#sk-container-id-6 div.sk-text-repr-fallback {display: none;}</style><div id=\"sk-container-id-6\" class=\"sk-top-container\"><div class=\"sk-text-repr-fallback\"><pre>GridSearchCV(cv=5, estimator=KNeighborsClassifier(),\n",
       "             param_grid={&#x27;n_neighbors&#x27;: array([50, 46, 42, 38, 34, 30, 26, 22, 18, 14, 10,  6])},\n",
       "             scoring=&#x27;f1_weighted&#x27;)</pre><b>In a Jupyter environment, please rerun this cell to show the HTML representation or trust the notebook. <br />On GitHub, the HTML representation is unable to render, please try loading this page with nbviewer.org.</b></div><div class=\"sk-container\" hidden><div class=\"sk-item sk-dashed-wrapped\"><div class=\"sk-label-container\"><div class=\"sk-label sk-toggleable\"><input class=\"sk-toggleable__control sk-hidden--visually\" id=\"sk-estimator-id-14\" type=\"checkbox\" ><label for=\"sk-estimator-id-14\" class=\"sk-toggleable__label sk-toggleable__label-arrow\">GridSearchCV</label><div class=\"sk-toggleable__content\"><pre>GridSearchCV(cv=5, estimator=KNeighborsClassifier(),\n",
       "             param_grid={&#x27;n_neighbors&#x27;: array([50, 46, 42, 38, 34, 30, 26, 22, 18, 14, 10,  6])},\n",
       "             scoring=&#x27;f1_weighted&#x27;)</pre></div></div></div><div class=\"sk-parallel\"><div class=\"sk-parallel-item\"><div class=\"sk-item\"><div class=\"sk-label-container\"><div class=\"sk-label sk-toggleable\"><input class=\"sk-toggleable__control sk-hidden--visually\" id=\"sk-estimator-id-15\" type=\"checkbox\" ><label for=\"sk-estimator-id-15\" class=\"sk-toggleable__label sk-toggleable__label-arrow\">estimator: KNeighborsClassifier</label><div class=\"sk-toggleable__content\"><pre>KNeighborsClassifier()</pre></div></div></div><div class=\"sk-serial\"><div class=\"sk-item\"><div class=\"sk-estimator sk-toggleable\"><input class=\"sk-toggleable__control sk-hidden--visually\" id=\"sk-estimator-id-16\" type=\"checkbox\" ><label for=\"sk-estimator-id-16\" class=\"sk-toggleable__label sk-toggleable__label-arrow\">KNeighborsClassifier</label><div class=\"sk-toggleable__content\"><pre>KNeighborsClassifier()</pre></div></div></div></div></div></div></div></div></div></div>"
      ],
      "text/plain": [
       "GridSearchCV(cv=5, estimator=KNeighborsClassifier(),\n",
       "             param_grid={'n_neighbors': array([50, 46, 42, 38, 34, 30, 26, 22, 18, 14, 10,  6])},\n",
       "             scoring='f1_weighted')"
      ]
     },
     "execution_count": 41,
     "metadata": {},
     "output_type": "execute_result"
    }
   ],
   "source": [
    "nn_range = np.arange(50, 5, -4)\n",
    "\n",
    "knn_gs = GridSearchCV(KNeighborsClassifier(), {'n_neighbors':nn_range}, \n",
    "                     scoring='f1_weighted', cv=5)\n",
    "\n",
    "knn_gs.fit(X_ttrain, y_train)"
   ]
  },
  {
   "cell_type": "code",
   "execution_count": 42,
   "metadata": {},
   "outputs": [
    {
     "data": {
      "text/plain": [
       "{'n_neighbors': 6}"
      ]
     },
     "execution_count": 42,
     "metadata": {},
     "output_type": "execute_result"
    }
   ],
   "source": [
    "knn_gs.best_params_"
   ]
  },
  {
   "cell_type": "markdown",
   "metadata": {},
   "source": [
    "These hyperparameters will be used in the final model"
   ]
  },
  {
   "cell_type": "code",
   "execution_count": 43,
   "metadata": {},
   "outputs": [
    {
     "data": {
      "text/html": [
       "<style>#sk-container-id-7 {color: black;background-color: white;}#sk-container-id-7 pre{padding: 0;}#sk-container-id-7 div.sk-toggleable {background-color: white;}#sk-container-id-7 label.sk-toggleable__label {cursor: pointer;display: block;width: 100%;margin-bottom: 0;padding: 0.3em;box-sizing: border-box;text-align: center;}#sk-container-id-7 label.sk-toggleable__label-arrow:before {content: \"▸\";float: left;margin-right: 0.25em;color: #696969;}#sk-container-id-7 label.sk-toggleable__label-arrow:hover:before {color: black;}#sk-container-id-7 div.sk-estimator:hover label.sk-toggleable__label-arrow:before {color: black;}#sk-container-id-7 div.sk-toggleable__content {max-height: 0;max-width: 0;overflow: hidden;text-align: left;background-color: #f0f8ff;}#sk-container-id-7 div.sk-toggleable__content pre {margin: 0.2em;color: black;border-radius: 0.25em;background-color: #f0f8ff;}#sk-container-id-7 input.sk-toggleable__control:checked~div.sk-toggleable__content {max-height: 200px;max-width: 100%;overflow: auto;}#sk-container-id-7 input.sk-toggleable__control:checked~label.sk-toggleable__label-arrow:before {content: \"▾\";}#sk-container-id-7 div.sk-estimator input.sk-toggleable__control:checked~label.sk-toggleable__label {background-color: #d4ebff;}#sk-container-id-7 div.sk-label input.sk-toggleable__control:checked~label.sk-toggleable__label {background-color: #d4ebff;}#sk-container-id-7 input.sk-hidden--visually {border: 0;clip: rect(1px 1px 1px 1px);clip: rect(1px, 1px, 1px, 1px);height: 1px;margin: -1px;overflow: hidden;padding: 0;position: absolute;width: 1px;}#sk-container-id-7 div.sk-estimator {font-family: monospace;background-color: #f0f8ff;border: 1px dotted black;border-radius: 0.25em;box-sizing: border-box;margin-bottom: 0.5em;}#sk-container-id-7 div.sk-estimator:hover {background-color: #d4ebff;}#sk-container-id-7 div.sk-parallel-item::after {content: \"\";width: 100%;border-bottom: 1px solid gray;flex-grow: 1;}#sk-container-id-7 div.sk-label:hover label.sk-toggleable__label {background-color: #d4ebff;}#sk-container-id-7 div.sk-serial::before {content: \"\";position: absolute;border-left: 1px solid gray;box-sizing: border-box;top: 0;bottom: 0;left: 50%;z-index: 0;}#sk-container-id-7 div.sk-serial {display: flex;flex-direction: column;align-items: center;background-color: white;padding-right: 0.2em;padding-left: 0.2em;position: relative;}#sk-container-id-7 div.sk-item {position: relative;z-index: 1;}#sk-container-id-7 div.sk-parallel {display: flex;align-items: stretch;justify-content: center;background-color: white;position: relative;}#sk-container-id-7 div.sk-item::before, #sk-container-id-7 div.sk-parallel-item::before {content: \"\";position: absolute;border-left: 1px solid gray;box-sizing: border-box;top: 0;bottom: 0;left: 50%;z-index: -1;}#sk-container-id-7 div.sk-parallel-item {display: flex;flex-direction: column;z-index: 1;position: relative;background-color: white;}#sk-container-id-7 div.sk-parallel-item:first-child::after {align-self: flex-end;width: 50%;}#sk-container-id-7 div.sk-parallel-item:last-child::after {align-self: flex-start;width: 50%;}#sk-container-id-7 div.sk-parallel-item:only-child::after {width: 0;}#sk-container-id-7 div.sk-dashed-wrapped {border: 1px dashed gray;margin: 0 0.4em 0.5em 0.4em;box-sizing: border-box;padding-bottom: 0.4em;background-color: white;}#sk-container-id-7 div.sk-label label {font-family: monospace;font-weight: bold;display: inline-block;line-height: 1.2em;}#sk-container-id-7 div.sk-label-container {text-align: center;}#sk-container-id-7 div.sk-container {/* jupyter's `normalize.less` sets `[hidden] { display: none; }` but bootstrap.min.css set `[hidden] { display: none !important; }` so we also need the `!important` here to be able to override the default hidden behavior on the sphinx rendered scikit-learn.org. See: https://github.com/scikit-learn/scikit-learn/issues/21755 */display: inline-block !important;position: relative;}#sk-container-id-7 div.sk-text-repr-fallback {display: none;}</style><div id=\"sk-container-id-7\" class=\"sk-top-container\"><div class=\"sk-text-repr-fallback\"><pre>KNeighborsClassifier(n_jobs=8, n_neighbors=6)</pre><b>In a Jupyter environment, please rerun this cell to show the HTML representation or trust the notebook. <br />On GitHub, the HTML representation is unable to render, please try loading this page with nbviewer.org.</b></div><div class=\"sk-container\" hidden><div class=\"sk-item\"><div class=\"sk-estimator sk-toggleable\"><input class=\"sk-toggleable__control sk-hidden--visually\" id=\"sk-estimator-id-17\" type=\"checkbox\" checked><label for=\"sk-estimator-id-17\" class=\"sk-toggleable__label sk-toggleable__label-arrow\">KNeighborsClassifier</label><div class=\"sk-toggleable__content\"><pre>KNeighborsClassifier(n_jobs=8, n_neighbors=6)</pre></div></div></div></div></div>"
      ],
      "text/plain": [
       "KNeighborsClassifier(n_jobs=8, n_neighbors=6)"
      ]
     },
     "execution_count": 43,
     "metadata": {},
     "output_type": "execute_result"
    }
   ],
   "source": [
    "nn6 = KNeighborsClassifier(n_neighbors=6, n_jobs=8)\n",
    "nn6.fit(X_ttrain, y_train)"
   ]
  },
  {
   "cell_type": "code",
   "execution_count": 44,
   "metadata": {},
   "outputs": [],
   "source": [
    "y_test_pred = nn6.predict(X_ttest)"
   ]
  },
  {
   "cell_type": "code",
   "execution_count": 45,
   "metadata": {},
   "outputs": [
    {
     "data": {
      "image/png": "[encoded data removed]",
      "text/plain": [
       "<Figure size 432x288 with 2 Axes>"
      ]
     },
     "metadata": {
      "needs_background": "light"
     },
     "output_type": "display_data"
    }
   ],
   "source": [
    "ConfusionMatrixDisplay(confusion_matrix(y_test, y_test_pred), display_labels=nn6.classes_).plot();"
   ]
  },
  {
   "cell_type": "code",
   "execution_count": 46,
   "metadata": {},
   "outputs": [
    {
     "name": "stdout",
     "output_type": "stream",
     "text": [
      "              precision    recall  f1-score   support\n",
      "\n",
      "        C211       0.97      0.98      0.98      2795\n",
      "        C321       0.90      0.84      0.87       714\n",
      "        C431       0.89      0.93      0.91       324\n",
      "        C432       0.79      0.84      0.82       102\n",
      "        C543       0.86      0.85      0.85        65\n",
      "\n",
      "    accuracy                           0.94      4000\n",
      "   macro avg       0.88      0.89      0.88      4000\n",
      "weighted avg       0.94      0.94      0.94      4000\n",
      "\n"
     ]
    }
   ],
   "source": [
    "print(classification_report(y_test, y_test_pred))"
   ]
  },
  {
   "cell_type": "markdown",
   "metadata": {},
   "source": [
    "The f1-score for all the classes are good.\n",
    "\n",
    "KNN classifier is able to classify the cartons effectively."
   ]
  },
  {
   "cell_type": "markdown",
   "metadata": {},
   "source": [
    "## Conclusion"
   ]
  },
  {
   "cell_type": "markdown",
   "metadata": {},
   "source": [
    "The final model to be used for the recommender will be the Random Forest Classifier as mentioned above.\n",
    "\n",
    "This model which integrates the heuristic and machine learning process is much more successful in classiifying the cartons across all the sizes. Thus, an integrated model is a viable approach to solving the carton recommendation problem.\n",
    "\n",
    "There is however still room for potential future work which will be covered in the report."
   ]
  }
 ],
 "metadata": {
  "kernelspec": {
   "display_name": "Python 3 (ipykernel)",
   "language": "python",
   "name": "python3"
  },
  "language_info": {
   "codemirror_mode": {
    "name": "ipython",
    "version": 3
   },
   "file_extension": ".py",
   "mimetype": "text/x-python",
   "name": "python",
   "nbconvert_exporter": "python",
   "pygments_lexer": "ipython3",
   "version": "3.9.13"
  },
  "vscode": {
   "interpreter": {
    "hash": "8a8663abee06a1cfef71966deb7a6841dceceaecb389799667e94f505569b8e0"
   }
  }
 },
 "nbformat": 4,
 "nbformat_minor": 2
}
